{
 "cells": [
  {
   "cell_type": "code",
   "execution_count": 10,
   "id": "2c9b1065-6aa0-49f3-a3ef-d6aeabbe7435",
   "metadata": {},
   "outputs": [
    {
     "name": "stdout",
     "output_type": "stream",
     "text": [
      "10\n",
      "5.0\n",
      "6.0\n",
      "3.0\n",
      "4.0\n",
      "2.0\n",
      "1.0\n"
     ]
    }
   ],
   "source": [
    "n = 10 # Assume n is the number of maximum iteration.\n",
    "i = 10\n",
    "\n",
    "while i > 0 and n > 0: # Added n > 0 condition.\n",
    "    n = n - 1 # Added n = n - 1 to make sure while loop will exit after n iterations or less.\n",
    "    print(i) # Fixed print statement for Python 3 and also fixed the indentation misalignment\n",
    "    \n",
    "    if i % 2 == 0:\n",
    "        i = i/2\n",
    "    elif i == 1: # Added elif to check if i == 1. \n",
    "        i = i - 1 # Added i = i - 1 to avoid infinite loop from 1 to 2. \n",
    "    else:\n",
    "        i = i + 1"
   ]
  },
  {
   "cell_type": "code",
   "execution_count": 11,
   "id": "a4135c03-1ae3-4fba-b09e-c1037837c375",
   "metadata": {},
   "outputs": [
    {
     "name": "stdout",
     "output_type": "stream",
     "text": [
      "10\n",
      "5.0\n",
      "6.0\n"
     ]
    }
   ],
   "source": [
    "n = 3 # Assume n is the number of maximum iteration.\n",
    "i = 10\n",
    "\n",
    "while i > 0 and n > 0: # Added n > 0 condition.\n",
    "    n = n - 1 # Added n = n - 1 to make sure while loop will exit after n iterations or less.\n",
    "    print(i) # Fixed print statement for Python 3 and also fixed the indentation misalignment\n",
    "    \n",
    "    if i % 2 == 0:\n",
    "        i = i/2\n",
    "    elif i == 1: # Added elif to check if i == 1. \n",
    "        i = i - 1 # Added i = i - 1 to avoid infinite loop from 1 to 2. \n",
    "    else:\n",
    "        i = i + 1"
   ]
  },
  {
   "cell_type": "code",
   "execution_count": null,
   "id": "74b9dcda-a1ba-4321-a46c-9065a4c4fb73",
   "metadata": {},
   "outputs": [],
   "source": []
  }
 ],
 "metadata": {
  "kernelspec": {
   "display_name": "Python 3",
   "language": "python",
   "name": "python3"
  },
  "language_info": {
   "codemirror_mode": {
    "name": "ipython",
    "version": 3
   },
   "file_extension": ".py",
   "mimetype": "text/x-python",
   "name": "python",
   "nbconvert_exporter": "python",
   "pygments_lexer": "ipython3",
   "version": "3.9.7"
  }
 },
 "nbformat": 4,
 "nbformat_minor": 5
}
