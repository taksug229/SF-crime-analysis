{
 "cells": [
  {
   "cell_type": "markdown",
   "metadata": {},
   "source": [
    "# MSDS 430 Module 3 Python Assignment"
   ]
  },
  {
   "cell_type": "markdown",
   "metadata": {},
   "source": [
    "<div class=\"alert alert-block alert-warning\"><b>In this assignment you will read through the notebook and complete the exercises. Once you are satisfied with the results, submit your notebook and html file to Canvas. Your files should include all output, i.e. run each cell and save your file before submitting.</b></div>"
   ]
  },
  {
   "cell_type": "markdown",
   "metadata": {},
   "source": [
    "<div class=\"alert alert-block alert-info\">The main topics this week are loops and functions. There are two types of loops that we are working with - the <font color=black>for loop</font> and the <font color=black>while loop</font>. As you read through this notebook and complete the exercises, compare the two types of loops. Think about which is more concise and when each might be used. Additionally we are working with functions, user-defined and built-in. It will be worth your time to explore Python's built in functions beyond what is asked of you in this assignment. User-defined functions will appear quite frequently throughout the remainder of the course and can be difficult to grasp at first. Be sure to use the <font color=black>codelens</font> view in your interactive textbook for each of the sample programs provided to understand how Python processes functions. This will reinforce your understanding of the concept.  </div>"
   ]
  },
  {
   "cell_type": "markdown",
   "metadata": {},
   "source": [
    "<div class=\"alert alert-block alert-danger\"><b>In all of the problems you will see <font color=black># TODO</font> statements added as comments in the code cells provided. Remember to complete each of these as indicated to avoid losing points.</b></div>"
   ]
  },
  {
   "cell_type": "markdown",
   "metadata": {},
   "source": [
    "### Python Modules"
   ]
  },
  {
   "cell_type": "markdown",
   "metadata": {},
   "source": [
    "Python has many built-in modules that are quite useful. From your readings this week, you have seen uses for the `math` module and the `random` module. These are just two of the many built-in modules that Python comes with. More information on all of Python's modules can be found in __[The Python Standard Library](https://docs.python.org/3/library/index.html)__. You are certainly encouraged to explore Python's built-in modules beyond what is discussed in this assignment and what you learn from your readings this week."
   ]
  },
  {
   "cell_type": "markdown",
   "metadata": {},
   "source": [
    "To use any module, we need to `import` it prior to its use. The statement `import math` will create a new name `math`, which refers to a `module object`. The math module, like all built-in modules, are equipped with functions (or methods) that can be called. \n",
    "\n",
    "Suppose we wish to calculate the greatest common divisor of two integers. We would import the `math` module and use the function contained in the math module that will calculate this for us. <i><u>If your version of Python is 3.9 or higher, this function will take any finite number of integer arguments.</u></i>"
   ]
  },
  {
   "cell_type": "code",
   "execution_count": 1,
   "metadata": {},
   "outputs": [
    {
     "data": {
      "text/plain": [
       "6"
      ]
     },
     "execution_count": 1,
     "metadata": {},
     "output_type": "execute_result"
    }
   ],
   "source": [
    "import math\n",
    "math.gcd(24,1002)"
   ]
  },
  {
   "cell_type": "markdown",
   "metadata": {},
   "source": [
    "Or if we want to calculate the volume of a sphere with radius 5, we could use the constant `math.pi` from the math module. Notice that because we imported the math module in the cell above, we do not need to import it again for this next calculation. However, the cell above this must be run first for our calculation below to work."
   ]
  },
  {
   "cell_type": "code",
   "execution_count": 4,
   "metadata": {},
   "outputs": [
    {
     "name": "stdout",
     "output_type": "stream",
     "text": [
      "523.599\n"
     ]
    }
   ],
   "source": [
    "r = 5\n",
    "volume = 4/3*math.pi*r**3\n",
    "print(round(volume, 3))"
   ]
  },
  {
   "cell_type": "markdown",
   "metadata": {},
   "source": [
    "Below is an example of one use of the `statistics` module that takes an unordered list of numbers and returns the median of the list. So, behind the scenes it is ordering the list from least to greatest then finding the middle value."
   ]
  },
  {
   "cell_type": "code",
   "execution_count": 5,
   "metadata": {},
   "outputs": [
    {
     "data": {
      "text/plain": [
       "5"
      ]
     },
     "execution_count": 5,
     "metadata": {},
     "output_type": "execute_result"
    }
   ],
   "source": [
    "import statistics\n",
    "statistics.median([5,2,19,11,0,2,13])"
   ]
  },
  {
   "cell_type": "markdown",
   "metadata": {},
   "source": [
    "Alternatively, we rename a module by providing an alias. Below, we import `statistics` with the alias `st`. Then we can use any function defined in the `statistics` module by prefixing the function name with `st.` (instead of `statistics.`)."
   ]
  },
  {
   "cell_type": "code",
   "execution_count": 6,
   "metadata": {},
   "outputs": [
    {
     "data": {
      "text/plain": [
       "5"
      ]
     },
     "execution_count": 6,
     "metadata": {},
     "output_type": "execute_result"
    }
   ],
   "source": [
    "import statistics as st\n",
    "st.median([5,2,19,11,0,2,13])"
   ]
  },
  {
   "cell_type": "markdown",
   "metadata": {},
   "source": [
    "Another module from your readings this week is the `random` module. One of the most basic uses of this is to generate a random real-valued number within the interval [0.0, 1.0)."
   ]
  },
  {
   "cell_type": "code",
   "execution_count": 7,
   "metadata": {},
   "outputs": [
    {
     "data": {
      "text/plain": [
       "0.17326961771339666"
      ]
     },
     "execution_count": 7,
     "metadata": {},
     "output_type": "execute_result"
    }
   ],
   "source": [
    "import random\n",
    "my_number = random.random()\n",
    "my_number"
   ]
  },
  {
   "cell_type": "markdown",
   "metadata": {},
   "source": [
    "Or we could use the `uniform` method to generate a random floating point number between two values."
   ]
  },
  {
   "cell_type": "code",
   "execution_count": 8,
   "metadata": {},
   "outputs": [
    {
     "data": {
      "text/plain": [
       "42.987648373418494"
      ]
     },
     "execution_count": 8,
     "metadata": {},
     "output_type": "execute_result"
    }
   ],
   "source": [
    "random.uniform(10, 100)"
   ]
  },
  {
   "cell_type": "markdown",
   "metadata": {},
   "source": [
    "Occasionally you will see a slightly different approach used for importing a module. You may see something like this:\n",
    "```python\n",
    "from [module] import *\n",
    "```\n",
    "This will import `_everything_` defined in the module and give us _`direct`_ access to constants, functions, etc. in the module without having to to _prefix_ the module name like we did above. However, this is _**not**_ a good practice in general since two modules might define two different methods with the same name.\n",
    "\n",
    "Here is the same example from above using this alternative import statement:"
   ]
  },
  {
   "cell_type": "code",
   "execution_count": 9,
   "metadata": {},
   "outputs": [
    {
     "data": {
      "text/plain": [
       "52.66967394379211"
      ]
     },
     "execution_count": 9,
     "metadata": {},
     "output_type": "execute_result"
    }
   ],
   "source": [
    "from random import *\n",
    "\n",
    "uniform(10, 100)"
   ]
  },
  {
   "cell_type": "markdown",
   "metadata": {},
   "source": [
    "If we wish to generate a random integer we have a few options. For example, we can use the function `randrange(start, stop, step)` to generate a random integer from a range of integers starting at `start` but less than `stop` with specified increment of `step`. \n",
    "\n",
    "In this next example, the `randrange` function will randomly generate a number between 3 and 49, inclusive, with step 2. In other words, it will generate a random integer from range of integers: `3, 5, 7, ..., 47, 49`."
   ]
  },
  {
   "cell_type": "code",
   "execution_count": 10,
   "metadata": {},
   "outputs": [
    {
     "data": {
      "text/plain": [
       "29"
      ]
     },
     "execution_count": 10,
     "metadata": {},
     "output_type": "execute_result"
    }
   ],
   "source": [
    "randrange(3,50,2)"
   ]
  },
  {
   "cell_type": "markdown",
   "metadata": {},
   "source": [
    "By, default `start` is zero and `step` is one. For example, `randrange(50)` generates a random integer between 0 and 49, inclusive."
   ]
  },
  {
   "cell_type": "code",
   "execution_count": 11,
   "metadata": {},
   "outputs": [
    {
     "data": {
      "text/plain": [
       "33"
      ]
     },
     "execution_count": 11,
     "metadata": {},
     "output_type": "execute_result"
    }
   ],
   "source": [
    "randrange(50)"
   ]
  },
  {
   "cell_type": "markdown",
   "metadata": {},
   "source": [
    "### `while` Loops"
   ]
  },
  {
   "cell_type": "markdown",
   "metadata": {},
   "source": [
    "Loops are statements that repeat an action over and over. The `while` loop is the most general iteration construct in the Python language. It will repeatedly execute a block of statements <i>while</i> the \"test\" expression evaluates to **True**:\n",
    "```python\n",
    "while test:\n",
    "    statements\n",
    "```\n",
    "The \"test\" expression is a Boolean expression that evaluates to **True** or **False**. Similar to conditionals, which we learned about last week, the line with our while statement ends with a colon and the body of the loop is indented. As long as the test expression is True, the loop will continue and the statements inside the loop will be executed."
   ]
  },
  {
   "cell_type": "code",
   "execution_count": 12,
   "metadata": {},
   "outputs": [
    {
     "name": "stdout",
     "output_type": "stream",
     "text": [
      "1\n",
      "2\n",
      "3\n",
      "4\n",
      "5\n"
     ]
    }
   ],
   "source": [
    "n = 1\n",
    "\n",
    "while n <= 5: # This is 'True' as long as n <= 5\n",
    "    print(n)  # Print the current value of n\n",
    "    n += 1    # Add 1 to n and return to the test expression"
   ]
  },
  {
   "cell_type": "markdown",
   "metadata": {},
   "source": [
    "In the example above we have the test expression `n <= 5`. It will evaluate to True or False depending on the value of n. We can also use strings as test expressions, but these work a bit differently. A nonempty string will evaluate to **True** and an empty string will evaluate to **False**. \n",
    "\n",
    "In the next example we start with a nonempty string and strip away characters from the string until the string is empty, which will end the loop. Feel free to try different strings."
   ]
  },
  {
   "cell_type": "code",
   "execution_count": 13,
   "metadata": {},
   "outputs": [
    {
     "name": "stdout",
     "output_type": "stream",
     "text": [
      "Chicago hicago icago cago ago go o "
     ]
    }
   ],
   "source": [
    "x = 'Chicago'\n",
    "\n",
    "while x:               # This is 'True' while x is not empty\n",
    "    print(x, end=' ')  # Print the remaining portion of the string\n",
    "    x = x[1:]          # Strip off the first character from the string with each iteration"
   ]
  },
  {
   "cell_type": "markdown",
   "metadata": {},
   "source": [
    "One potential concern with a while loop is the possibility that the test expression never evaluates to False. If this happens, we have an infinite loop. For example:\n",
    "```python\n",
    "num = 1\n",
    "while num <= 25:\n",
    "    print (num/100) \n",
    "num += 1\n",
    "```\n",
    "Notice `num += 1` is outside the body of the loop. Thus, `num` is never incremented inside the while loop and the test expression `num <= 25` will always evaluate to True. So it is important to pay attention to what is occurring within a while loop to make sure it will eventually terminate."
   ]
  },
  {
   "cell_type": "markdown",
   "metadata": {},
   "source": [
    "### `break` Statement"
   ]
  },
  {
   "cell_type": "markdown",
   "metadata": {},
   "source": [
    "One way to exit a loop, in particular an infinite loop, is to use a `break` statement. This will cause an immediate exit from the loop. With this next example, the user is prompted to enter a positive integer. If the user enters a positive integer, a print statement is executed then the loop is exited. If the user enters a negative number, the user is prompted to enter a positive integer. This will repeat indefinitely until the user enters a positive number."
   ]
  },
  {
   "cell_type": "code",
   "execution_count": 14,
   "metadata": {},
   "outputs": [
    {
     "name": "stdin",
     "output_type": "stream",
     "text": [
      "Enter a positive number:  -1\n"
     ]
    },
    {
     "name": "stdout",
     "output_type": "stream",
     "text": [
      "Must enter a positive number!\n"
     ]
    },
    {
     "name": "stdin",
     "output_type": "stream",
     "text": [
      "Enter a positive number:  2\n"
     ]
    },
    {
     "name": "stdout",
     "output_type": "stream",
     "text": [
      "Good job!\n"
     ]
    }
   ],
   "source": [
    "while True:\n",
    "    num = float(input('Enter a positive number: '))\n",
    "    \n",
    "    if num > 0:\n",
    "        print('Good job!')\n",
    "        break\n",
    "    print(\"Must enter a positive number!\")"
   ]
  },
  {
   "cell_type": "markdown",
   "metadata": {},
   "source": [
    "By adding a break statement outside of the body of the if statement but inside the while loop, we can exit the while loop once the user enters a negative number. This next example uses a `while True` condition that will continue indefinitely until it reaches a `break`. So a `while True` condition must contain a break statement."
   ]
  },
  {
   "cell_type": "code",
   "execution_count": 16,
   "metadata": {},
   "outputs": [
    {
     "name": "stdin",
     "output_type": "stream",
     "text": [
      "Enter a positive number:  9\n"
     ]
    },
    {
     "name": "stdout",
     "output_type": "stream",
     "text": [
      "Good job!\n"
     ]
    }
   ],
   "source": [
    "while True:\n",
    "    num = float(input('Enter a positive number: '))\n",
    "    \n",
    "    if num > 0:\n",
    "        print('Good job!')\n",
    "        break\n",
    "    print(\"Must enter a positive number!\")\n",
    "    print(\"Goodbye!\")\n",
    "    break"
   ]
  },
  {
   "cell_type": "markdown",
   "metadata": {},
   "source": [
    "### `continue` Statement"
   ]
  },
  {
   "cell_type": "markdown",
   "metadata": {},
   "source": [
    "The `continue` statement within a loop will instruct Python to skip the rest of the code inside of the loop once this is reached. The loop does not necessarily terminate, but continues with the next iteration. Below is a variation of the example above that uses both a continue statement and a break statement. "
   ]
  },
  {
   "cell_type": "code",
   "execution_count": 17,
   "metadata": {},
   "outputs": [
    {
     "name": "stdin",
     "output_type": "stream",
     "text": [
      "Enter a positive number:  -4\n"
     ]
    },
    {
     "name": "stdout",
     "output_type": "stream",
     "text": [
      "Must enter a positive number!\n"
     ]
    },
    {
     "name": "stdin",
     "output_type": "stream",
     "text": [
      "Enter a positive number:  4\n"
     ]
    },
    {
     "name": "stdout",
     "output_type": "stream",
     "text": [
      "Good job\n",
      "Have a great day!\n"
     ]
    }
   ],
   "source": [
    "while True:\n",
    "    num = input('Enter a positive number: ')\n",
    "    num = float(num)\n",
    "\n",
    "    if num <= 0:\n",
    "        print(\"Must enter a positive number!\")\n",
    "        continue\n",
    "    else:\n",
    "        print('Good job')\n",
    "        break\n",
    "\n",
    "print('Have a great day!')"
   ]
  },
  {
   "cell_type": "markdown",
   "metadata": {},
   "source": [
    "### Nested `while` Loops"
   ]
  },
  {
   "cell_type": "markdown",
   "metadata": {},
   "source": [
    "Similar to conditional statements, we can have nested loops. In other words, a loop (or loops) within a loop. This next example uses a nested while loop to display all possible ordered pairs (tuples) with x-values of 1 through 7 paired with y-values of 1 and 2. "
   ]
  },
  {
   "cell_type": "code",
   "execution_count": 18,
   "metadata": {},
   "outputs": [
    {
     "name": "stdout",
     "output_type": "stream",
     "text": [
      "(1, 1) (1, 2) (2, 1) (2, 2) (3, 1) (3, 2) (4, 1) (4, 2) (5, 1) (5, 2) (6, 1) (6, 2) (7, 1) (7, 2) "
     ]
    }
   ],
   "source": [
    "x = 1  # Initialize x\n",
    "\n",
    "while x <= 7:     # Use an 'outer' while loop to iterate over x-values\n",
    "    y = 1         # Initialize y\n",
    "    while y < 3:  # Use an 'inner' while loop to iterate over y-values\n",
    "        print((x, y), end= \" \")\n",
    "        y += 1\n",
    "    x += 1"
   ]
  },
  {
   "cell_type": "markdown",
   "metadata": {},
   "source": [
    "<div class=\"alert alert-block alert-success\"><b>Problem 1 (4 pts.):</b> Create a nested <mark>while</mark> loop that displays the following output:</div>\n",
    "\n",
    "`1 1 1 1 1` <br>\n",
    "`2 2 2 2` <br>\n",
    "`3 3 3` <br>\n",
    "`4 4` <br>\n",
    "`5`"
   ]
  },
  {
   "cell_type": "code",
   "execution_count": 27,
   "metadata": {},
   "outputs": [
    {
     "name": "stdout",
     "output_type": "stream",
     "text": [
      "1 1 1 1 1 \n",
      "2 2 2 2 \n",
      "3 3 3 \n",
      "4 4 \n",
      "5 \n"
     ]
    }
   ],
   "source": [
    "# TODO: Created a nested while loop to generate the same output as shown above.\n",
    "\n",
    "counter = 0 \n",
    "n = 5\n",
    "x = 1\n",
    "\n",
    "while x <= 5:\n",
    "    n -= counter\n",
    "    while n:\n",
    "        print(x, end=' ')\n",
    "        n -= 1\n",
    "    x += 1\n",
    "    counter += 1\n",
    "    n = 5\n",
    "    print('')"
   ]
  },
  {
   "cell_type": "markdown",
   "metadata": {},
   "source": [
    "### `for` Loops"
   ]
  },
  {
   "cell_type": "markdown",
   "metadata": {},
   "source": [
    "The `for` loop is another way to code repetitive tasks. It is a simple and effective way to step through all items in a sequence and run a block of code for each item until the sequence is exhausted. Compared to a `while` loop, a `for` loop is much more powerful and often times a more concise way to perform a repetitive task. The general structure of a `for` loop looks like this:\n",
    "```python\n",
    "for item in sequence:\n",
    "    statements\n",
    "```"
   ]
  },
  {
   "cell_type": "markdown",
   "metadata": {},
   "source": [
    "This first example <i>steps</i> through the letters of a string one-by-one and for each item (letter) prints the uppercase form of the letter followed by a space."
   ]
  },
  {
   "cell_type": "code",
   "execution_count": 28,
   "metadata": {},
   "outputs": [
    {
     "name": "stdout",
     "output_type": "stream",
     "text": [
      "C H I C A G O "
     ]
    }
   ],
   "source": [
    "for i in 'Chicago':\n",
    "    print(i.upper(), end=' ')"
   ]
  },
  {
   "cell_type": "markdown",
   "metadata": {},
   "source": [
    "Another common approach used in conjunction with a for loop is to use `range(n)`. The default is to start at 0 and end at n - 1 in increments or steps of 1. When used in a for loop, this will iterate over the values 0, 1, 2, ..., n - 1. Below we use this within a for loop to print the first 10 nonnegative integers in a single row."
   ]
  },
  {
   "cell_type": "code",
   "execution_count": 29,
   "metadata": {},
   "outputs": [
    {
     "name": "stdout",
     "output_type": "stream",
     "text": [
      "0 1 2 3 4 5 6 7 8 9 "
     ]
    }
   ],
   "source": [
    "for x in range(10):\n",
    "    print(x, end= ' ')"
   ]
  },
  {
   "cell_type": "markdown",
   "metadata": {},
   "source": [
    "Another variation of `range()` is `range(start, stop[, step])\n",
    "\n",
    "The default `step` is 1, so if nothing is specified this will go up in increments of 1. Also, remember that `stop` will end at one less than the value of `stop`. For example,\n",
    "```python\n",
    "for j in range(3, 10, 2):\n",
    "    print(j, end=' ')\n",
    "```\n",
    "would begin at 3 and end at 9 going up in increments of 2, i.e. this would print:\n",
    "\n",
    "`3 5 7 9`"
   ]
  },
  {
   "cell_type": "markdown",
   "metadata": {},
   "source": [
    "Here is an example that iterates over 2, 3, ..., 8, 9 and calculates 1/2 the number:"
   ]
  },
  {
   "cell_type": "code",
   "execution_count": 30,
   "metadata": {},
   "outputs": [
    {
     "name": "stdout",
     "output_type": "stream",
     "text": [
      "Half of 2 is 1.0\n",
      "Half of 3 is 1.5\n",
      "Half of 4 is 2.0\n",
      "Half of 5 is 2.5\n",
      "Half of 6 is 3.0\n",
      "Half of 7 is 3.5\n",
      "Half of 8 is 4.0\n",
      "Half of 9 is 4.5\n"
     ]
    }
   ],
   "source": [
    "for n in range(2, 10):\n",
    "    print(f'Half of {n} is {n/2}')"
   ]
  },
  {
   "cell_type": "markdown",
   "metadata": {},
   "source": [
    "We can also iterate over other Python sequence types, such as `tuples` and `lists`."
   ]
  },
  {
   "cell_type": "code",
   "execution_count": 31,
   "metadata": {},
   "outputs": [
    {
     "name": "stdout",
     "output_type": "stream",
     "text": [
      "dogdogdog\n",
      "catcatcat\n",
      "21\n"
     ]
    }
   ],
   "source": [
    "my_tuple = ('dog', 'cat', 7)\n",
    "\n",
    "for x in my_tuple:\n",
    "    print(x*3)"
   ]
  },
  {
   "cell_type": "code",
   "execution_count": 32,
   "metadata": {},
   "outputs": [
    {
     "name": "stdout",
     "output_type": "stream",
     "text": [
      "APPLE\n",
      "KIWI\n",
      "ORANGE\n"
     ]
    }
   ],
   "source": [
    "my_list = ['apple', 'kiwi', 'orange']\n",
    "\n",
    "for x in my_list:\n",
    "    print(x.upper())"
   ]
  },
  {
   "cell_type": "markdown",
   "metadata": {},
   "source": [
    "Another technique with for loops is the use of the `underscore` character, `_`. We use this character quite often in variable names, but one use of this in a for loop is as a throw-away variable used to save memory. Consider the following example that prints Hello! 5 times:"
   ]
  },
  {
   "cell_type": "code",
   "execution_count": 33,
   "metadata": {},
   "outputs": [
    {
     "name": "stdout",
     "output_type": "stream",
     "text": [
      "Hello! Hello! Hello! Hello! Hello! "
     ]
    }
   ],
   "source": [
    "for _ in range(5):\n",
    "    print('Hello!', end=' ')"
   ]
  },
  {
   "cell_type": "markdown",
   "metadata": {},
   "source": [
    "Here is an example of a nested for loop that prints the first 5 positive integers 6 different times in tabular format:"
   ]
  },
  {
   "cell_type": "code",
   "execution_count": 34,
   "metadata": {},
   "outputs": [
    {
     "name": "stdout",
     "output_type": "stream",
     "text": [
      "1 1 1 1 1 1 \n",
      "2 2 2 2 2 2 \n",
      "3 3 3 3 3 3 \n",
      "4 4 4 4 4 4 \n",
      "5 5 5 5 5 5 \n"
     ]
    }
   ],
   "source": [
    "for i in range(1, 6):    \n",
    "    for _ in range(1, 7):\n",
    "        print(i, end=' ')\n",
    "        \n",
    "    print()"
   ]
  },
  {
   "cell_type": "markdown",
   "metadata": {},
   "source": [
    "We saw an example above that involves a `list` and a couple of the problems this week will involve creating a list as part of the output. Lists will be covered much more extensively in Module 4 but for now, let's mention some of the basics. First, items in a list are enclosed with `[` and `]`. For example, `[1, 2, 3]` and `['dog', 9.65, (-14, 0)]` are each lists with 3 elements. Notice the elements of a list can be different data types. Another important characteristic is that lists are `mutable`, which means we can alter them, i.e. we can add or remove items from a list or replace an item. \n",
    "\n",
    "This week we will be starting with an empty list and building it from scratch in the next two problems. Below are a couple of examples of working with lists. The first example begins with a defined list then adds to the list using the `append` method."
   ]
  },
  {
   "cell_type": "code",
   "execution_count": 35,
   "metadata": {},
   "outputs": [
    {
     "data": {
      "text/plain": [
       "['apples', 'blueberries', 'watermelon', 'bananas']"
      ]
     },
     "execution_count": 35,
     "metadata": {},
     "output_type": "execute_result"
    }
   ],
   "source": [
    "my_fruits = ['apples', 'blueberries', 'watermelon'] # Start with a defined list\n",
    "my_fruits.append('bananas')  # Use the 'append' method to add an item to the list\n",
    "my_fruits # Display the list"
   ]
  },
  {
   "cell_type": "markdown",
   "metadata": {},
   "source": [
    "The next example begins with an empty list and builds the elements of the list using a for loop."
   ]
  },
  {
   "cell_type": "code",
   "execution_count": 36,
   "metadata": {},
   "outputs": [
    {
     "data": {
      "text/plain": [
       "[10, 9, 8, 7, 6, 5, 4, 3, 2, 1]"
      ]
     },
     "execution_count": 36,
     "metadata": {},
     "output_type": "execute_result"
    }
   ],
   "source": [
    "my_list = [] # Start with an empty list called 'my_list'\n",
    "\n",
    "for i in range(10):  # Iterate over 0, 1, ..., 9\n",
    "    x = 10 - i       # Count down from 10 with each iteration\n",
    "    my_list.append(x) # Append x to the list with each iteration\n",
    "    \n",
    "my_list"
   ]
  },
  {
   "cell_type": "markdown",
   "metadata": {},
   "source": [
    "<div class=\"alert alert-block alert-success\"><b>Problem 2 (6 pts):</b> Use the built-in <mark>random</mark> module and a <mark>for</mark> loop to generate <b>40</b> random numbers between <b>-50</b> and <b>50</b> then display a list of only the negative numbers rounded to two decimal places. The program should also count the number of negative numbers and display the count. Your output should look similar to this (numbers and counts may vary):</div>\n",
    "\n",
    "`[-43.44, -42.29, -22.71, -38.69, -18.79, -5.35, -27.01, -31.39, -22.59, -20.14, -7.81, -1.38, -33.73, -35.51, -16.85, -31.05, -16.24, -31.58, -0.47, -15.03]`\n",
    "\n",
    "`There are 20 negative numbers in the list.`"
   ]
  },
  {
   "cell_type": "code",
   "execution_count": 40,
   "metadata": {},
   "outputs": [
    {
     "name": "stdout",
     "output_type": "stream",
     "text": [
      "[-27.16, -6.32, -8.6, -44.63, -23.03, -49.15, -47.73, -4.06, -38.61, -41.88, -10.7, -46.07, -15.46, -4.68, -26.92, -32.62, -23.87, -40.57, -35.62, -7.97, -10.56, -46.7, -14.25, -9.45]\n",
      "There are 24 negative numbers in the list.\n"
     ]
    }
   ],
   "source": [
    "import random\n",
    "\n",
    "neg_count = 0  # Initialize the count of negative numbers to 0.\n",
    "ls = []  # Start with an empty list.\n",
    "\n",
    "# TODO: Begin a 'for' loop to choose 40 random numbers between -50 and 50 using the 'uniform' function.\n",
    "for i in range(40):\n",
    "    n = random.uniform(-50,50)\n",
    "    # TODO: Within the for loop, append only the negative numbers (rounded to 2 decimal places) to the list \n",
    "    # and increment the neg_count.\n",
    "    if n < 0:\n",
    "        ls.append(round(n, 2))\n",
    "\n",
    "# TODO: Print the list of negative numbers.\n",
    "print(ls)\n",
    "# TODO: Create formatted print statement to print the number of negative numbers (as shown above).\n",
    "print(f'There are {len(ls)} negative numbers in the list.')"
   ]
  },
  {
   "cell_type": "markdown",
   "metadata": {},
   "source": [
    "### User-defined Functions"
   ]
  },
  {
   "cell_type": "markdown",
   "metadata": {},
   "source": [
    "The remaining problems involve user-defined functions. These have many benefits, one of which is reusability. They only need to be written once and can be reused several times. They are also a way to help us organize our code into blocks. For an additional resource on user-defined functions in Python, read through this tutorial: __[User-defined Functions](https://www.tutorialsteacher.com/python/python-user-defined-function)__"
   ]
  },
  {
   "cell_type": "markdown",
   "metadata": {},
   "source": [
    "The general structure of a user-defined function looks like this:\n",
    "```python\n",
    "def my_function(arg1, arg2, ..., argN):\n",
    "    statements\n",
    "    ...\n",
    "```\n",
    "A new function object is generated and assigned to the function's name when Python reaches and runs a `def` statement. The function name becomes a reference to the function object. The arguments, `arg1`, `arg2`, ..., `argN` are passed to functions by assignment.<br><br>\n",
    "The `def` header line above specifies a function called `my_function` that is assigned the function object along with zero or more arguments (sometimes called parameters) in parentheses. Executing functions is a two step process.  The first step is when Python reaches and runs the `def` header line. You will see no output but this loads the function into memory. The next step comes when the function is called. At that point the body of the function is executed. Notice the order of execution in this next example."
   ]
  },
  {
   "cell_type": "code",
   "execution_count": 41,
   "metadata": {},
   "outputs": [
    {
     "name": "stdout",
     "output_type": "stream",
     "text": [
      "Before\n",
      "During\n",
      "After\n"
     ]
    }
   ],
   "source": [
    "def my_function():  # Define the function 'my_function' with zero arguments.\n",
    "    x = 'During'    # This is the body of the function, which is skipped until the function is called.\n",
    "    print(x)\n",
    "    \n",
    "print('Before')  # Execute this print statement first.\n",
    "my_function()    # Call the function 'my function' and execute the body of the function.\n",
    "print('After')    # Execute this print statement last."
   ]
  },
  {
   "cell_type": "markdown",
   "metadata": {},
   "source": [
    "The previous example had zero arguments but parentheses were still required. As mentioned above, we can have 0 to N arguments that get passed to the function. When 2 or more arguments exist, they are passed based on their position unless you state otherwise."
   ]
  },
  {
   "cell_type": "code",
   "execution_count": 42,
   "metadata": {},
   "outputs": [],
   "source": [
    "def places(city, year):\n",
    "    print(f'I visited {city} in {year}.')"
   ]
  },
  {
   "cell_type": "markdown",
   "metadata": {},
   "source": [
    "When the function `places` is called, it will pass arguments based on the order:"
   ]
  },
  {
   "cell_type": "code",
   "execution_count": 43,
   "metadata": {},
   "outputs": [
    {
     "name": "stdout",
     "output_type": "stream",
     "text": [
      "I visited New York City in 2019.\n",
      "I visited 2017 in San Francisco.\n"
     ]
    }
   ],
   "source": [
    "places('New York City', 2019)\n",
    "places(2017, 'San Francisco')"
   ]
  },
  {
   "cell_type": "markdown",
   "metadata": {},
   "source": [
    "We can specify which value is assigned to each argument by using `keyword arguments`. This will remove the restriction on the order of the arguments, but the number of arguments must be the same."
   ]
  },
  {
   "cell_type": "code",
   "execution_count": 44,
   "metadata": {},
   "outputs": [
    {
     "name": "stdout",
     "output_type": "stream",
     "text": [
      "I visited San Francisco in 2017.\n"
     ]
    }
   ],
   "source": [
    "places(year = 2017, city = 'San Francisco')"
   ]
  },
  {
   "cell_type": "markdown",
   "metadata": {},
   "source": [
    "In this next example, three arguments are assigned values based on keyword arguments. The value `New York City` does not use a keyword argument so it will be assigned to the first argument, `city`, because of it's position when the function is called."
   ]
  },
  {
   "cell_type": "code",
   "execution_count": 45,
   "metadata": {},
   "outputs": [
    {
     "name": "stdout",
     "output_type": "stream",
     "text": [
      "I went to New York City in May of 2019 and saw the Statue of Liberty.\n"
     ]
    }
   ],
   "source": [
    "def places(city, site, month, year):\n",
    "    print(f'I went to {city} in {month} of {year} and saw {site}.')\n",
    "\n",
    "places('New York City', month = 'May', year = 2019, site = 'the Statue of Liberty')"
   ]
  },
  {
   "cell_type": "markdown",
   "metadata": {},
   "source": [
    "Function bodies will sometimes contain a `return` statement:\n",
    "```python\n",
    "def my_function(arg1, arg2, ..., argN):\n",
    "    ...\n",
    "    return value\n",
    "```\n",
    "The `return` statement is optional and can show up anywhere in the body of the function. When reached, it ends the function and sends a result back. The return statement shown here consists of an optional object value expression that gives the result of the function. If the value is omitted, a value of `None` will be (implicitly) returned. Run the following two cells to see what happens in each case."
   ]
  },
  {
   "cell_type": "code",
   "execution_count": 50,
   "metadata": {},
   "outputs": [
    {
     "data": {
      "text/plain": [
       "228"
      ]
     },
     "execution_count": 50,
     "metadata": {},
     "output_type": "execute_result"
    }
   ],
   "source": [
    "def times(x, y):\n",
    "    return x*y\n",
    "\n",
    "times(12,19)"
   ]
  },
  {
   "cell_type": "markdown",
   "metadata": {},
   "source": [
    "Interestingly, when we pass a string and an integer, the meaning of `*` will change. Instead of multiplication, this will repeat the string a certain number of times. So the `times` function created below can either perform repetition or multiplication."
   ]
  },
  {
   "cell_type": "code",
   "execution_count": 51,
   "metadata": {},
   "outputs": [
    {
     "data": {
      "text/plain": [
       "'Run!Run!Run!Run!'"
      ]
     },
     "execution_count": 51,
     "metadata": {},
     "output_type": "execute_result"
    }
   ],
   "source": [
    "times('Run!',4)"
   ]
  },
  {
   "cell_type": "markdown",
   "metadata": {},
   "source": [
    "Next we define a function called `intersect` to create a list of common elements in two different sequences. Remember, some examples of sequences we have seen thus far are strings, tuples, and lists."
   ]
  },
  {
   "cell_type": "code",
   "execution_count": 52,
   "metadata": {},
   "outputs": [],
   "source": [
    "def intersect(seq1, seq2):\n",
    "    common_list = []\n",
    "    for x in seq1:\n",
    "        if x in seq2:\n",
    "            common_list.append(x)\n",
    "    return common_list"
   ]
  },
  {
   "cell_type": "markdown",
   "metadata": {},
   "source": [
    "Next we assign a string to each of two different variables and call the function using those two variables."
   ]
  },
  {
   "cell_type": "code",
   "execution_count": 53,
   "metadata": {},
   "outputs": [
    {
     "data": {
      "text/plain": [
       "['A', 'P', 'P', 'L', 'E']"
      ]
     },
     "execution_count": 53,
     "metadata": {},
     "output_type": "execute_result"
    }
   ],
   "source": [
    "s1 = 'SNAPPLE'\n",
    "s2 = 'GRAPPLE'\n",
    "intersect(s1, s2)"
   ]
  },
  {
   "cell_type": "markdown",
   "metadata": {},
   "source": [
    "This next example calls the function using lists."
   ]
  },
  {
   "cell_type": "code",
   "execution_count": 54,
   "metadata": {},
   "outputs": [
    {
     "data": {
      "text/plain": [
       "[5, 3, 'dog', 11]"
      ]
     },
     "execution_count": 54,
     "metadata": {},
     "output_type": "execute_result"
    }
   ],
   "source": [
    "x1 = [1, 5, 3, 'dog', 2, 11]\n",
    "x2 = ['dog', 11, 3, 7, 5, 13]\n",
    "intersect(x1, x2)"
   ]
  },
  {
   "cell_type": "markdown",
   "metadata": {},
   "source": [
    "We can even call the function using mixed types."
   ]
  },
  {
   "cell_type": "code",
   "execution_count": 55,
   "metadata": {},
   "outputs": [
    {
     "data": {
      "text/plain": [
       "['a', 3.14]"
      ]
     },
     "execution_count": 55,
     "metadata": {},
     "output_type": "execute_result"
    }
   ],
   "source": [
    "x_list = [1, 'a', 3.14]\n",
    "x_tuple = (3.14, 'a')\n",
    "intersect(x_list, x_tuple)"
   ]
  },
  {
   "cell_type": "markdown",
   "metadata": {},
   "source": [
    "<div class=\"alert alert-block alert-success\"><b>Problem 3 (6 pts):</b> Define a function called <mark>common_divisors</mark> that takes two positive integers <mark>m</mark> and <mark>n</mark> as its arguments and returns the list of all common divisors (including 1) of the two integers, unless 1 is the only common divisor. If 1 is the only common divisor, the function should print a statement indicating the two numbers are relatively prime. Otherwise, the function prints the number of common divisors and the list of common divisors.</div>"
   ]
  },
  {
   "cell_type": "code",
   "execution_count": 109,
   "metadata": {},
   "outputs": [],
   "source": [
    "# TODO: Define the function 'common_divisors' with two arguments 'm' and 'n'.\n",
    "def common_divisors(m, n):\n",
    "    # TODO: Start with an empty list and append common divisors to the list.\n",
    "    if m < 0 or n < 0:\n",
    "        raise ValueError('m and n must be positive integers')\n",
    "    ls = []\n",
    "    l = max(m, n)\n",
    "    for i in range(1, l+1):\n",
    "        if m % i == 0 and n % i == 0:\n",
    "            ls.append(i)\n",
    "    # TODO: Create a conditional statement to print the appropriate statement as indicated above.\n",
    "    if len(ls) >= 2:\n",
    "        print(f'{m} and {n} have {len(ls)} common divisors, including 1.')\n",
    "        return ls\n",
    "    else:\n",
    "        print(f'{m} and {n} are relatively prime.')"
   ]
  },
  {
   "cell_type": "markdown",
   "metadata": {},
   "source": [
    "<div class=\"alert alert-block alert-success\"><b>Problem 3 continued:</b> Call the function <mark>common_divisors</mark> by passing 5 and 38. Your output should look like this:</div>\n",
    "\n",
    "`5 and 38 are relatively prime.`"
   ]
  },
  {
   "cell_type": "code",
   "execution_count": 111,
   "metadata": {},
   "outputs": [
    {
     "name": "stdout",
     "output_type": "stream",
     "text": [
      "5 and 38 are relatively prime.\n"
     ]
    }
   ],
   "source": [
    "# TODO: Call the function 'common_divisors' by passing 5 and 38. Your output should appear as indicated.\n",
    "common_divisors(5, 38)"
   ]
  },
  {
   "cell_type": "markdown",
   "metadata": {},
   "source": [
    "<div class=\"alert alert-block alert-success\"><b>Problem 3 continued:</b> Call the function <mark>common_divisors</mark> by passing 72 and 48. Your output should look like this:</div>\n",
    "\n",
    "`72 and 48 have 8 common divisors, including 1.`\n",
    "\n",
    "`[1, 2, 3, 4, 6, 8, 12, 24]`"
   ]
  },
  {
   "cell_type": "code",
   "execution_count": 112,
   "metadata": {},
   "outputs": [
    {
     "name": "stdout",
     "output_type": "stream",
     "text": [
      "72 and 48 have 8 common divisors, including 1.\n"
     ]
    },
    {
     "data": {
      "text/plain": [
       "[1, 2, 3, 4, 6, 8, 12, 24]"
      ]
     },
     "execution_count": 112,
     "metadata": {},
     "output_type": "execute_result"
    }
   ],
   "source": [
    "# TODO: Call the function 'common_divisors' by passing 72 and 48. Your output should appear as indicated.\n",
    "common_divisors(72, 48)"
   ]
  },
  {
   "cell_type": "markdown",
   "metadata": {},
   "source": [
    "<div class=\"alert alert-block alert-success\"><b>Problem 4 (8 pts):</b> Complete the following steps:\n",
    "\n",
    "1. Define a function called <mark>polys</mark> that takes 4 arguments <mark>x</mark>, <mark>a</mark>, <mark>b</mark>, and <mark>c</mark> and returns the value of a polynomial of the form <b>ax<sup>3</sup> + bx<sup>2</sup> + cx</b>. \n",
    "2. Next, prompt the user to enter the coefficients of the polynomial (see testing input below).\n",
    "3. Initialize <mark>x</mark> and assign initial values to variables named <mark>max_y</mark> and <mark>min_y</mark> by calling the function <mark>polys</mark>and passing the initial value of <mark>x</mark> and the user's input.\n",
    "4. Calculate the maximum and minimum values and their corresponding x-values over the interval <b>[0, 20]</b>. To accomplish this, create a <mark>while</mark> loop or a <mark>for</mark> loop to iterate over the values <mark>x = 0.1, 0.2, ..., 19.9, 20</mark> and evaluate the function at each of these x-values (by calling <mark>polys</mark>) to determine the maximum and minimum function values. <br>\n",
    "5. Create two formatted print statements that round the values to 2 decimal places and display the output shown below.<br><br>\n",
    "Sample input and output are shown here:</div>\n",
    "\n",
    "**Your input should look like this:**<br>\n",
    "`Enter the coefficient of x^3: 1`<br>\n",
    "`Enter the coefficient of x^2: -17`<br>\n",
    "`Enter the coefficient of x: 72`<br><br>\n",
    "**Your output should look like this:**<br>\n",
    "`The maximum value is 2581.23 when x is 19.90.`<br>\n",
    "`The minimum value is -2.12 when x is 8.50.`"
   ]
  },
  {
   "cell_type": "code",
   "execution_count": 113,
   "metadata": {},
   "outputs": [
    {
     "name": "stdin",
     "output_type": "stream",
     "text": [
      "Enter the coefficient of x^3: 1\n",
      "Enter the coefficient of x^2: -17\n",
      "Enter the coefficient of x: 72\n"
     ]
    },
    {
     "name": "stdout",
     "output_type": "stream",
     "text": [
      "The maximum value is 2581.23 when x is 19.90.\n",
      "The minimum value is -2.12 when x is 8.50.\n"
     ]
    }
   ],
   "source": [
    "# TODO: Define the function 'polys' with arguments x, a, b, and c that returns the value of the polynomial.\n",
    "def polys(x, a, b, c):\n",
    "    return (a*(x**3)) + (b*(x**2)) + (c*x)\n",
    "\n",
    "# TODO: Prompt the user to enter each of the three coefficients using the wording shown above.\n",
    "a = int(input('Enter the coefficient of x^3:')) # a = 1\n",
    "b = int(input('Enter the coefficient of x^2:')) # b = -17\n",
    "c = int(input('Enter the coefficient of x:')) # c = 72\n",
    "\n",
    "# TODO: Initialize the value of x and initialize 'max_y' and 'min_y' accordingly by calling the 'polys' function.\n",
    "x = 5\n",
    "max_y = polys(x, a, b, c)\n",
    "min_y = polys(x, a, b, c)\n",
    "# TODO: Create a while loop or a for loop to evaluate the 'polys' function at each of the x-values in steps of 0.1.\n",
    "#       Your loop should also determine the maximum and minimum function values and the corresponding x-values.\n",
    "step = 0.1\n",
    "max_x = None\n",
    "min_x = None\n",
    "current_x = 0\n",
    "while current_x < 20:\n",
    "    n = polys(current_x, a, b, c)\n",
    "    if n > max_y:\n",
    "        max_y = round(n, 2)\n",
    "        max_x = round(current_x, 2)\n",
    "    if n < min_y:\n",
    "        min_y = round(n, 2)\n",
    "        min_x = round(current_x, 2)\n",
    "    current_x += step\n",
    "\n",
    "def show2dec(n):\n",
    "    return format(n, '.2f')\n",
    "\n",
    "# TODO: Create a formatted print statement to print the maximum function value and the corresponding x-value    \n",
    "print(f'The maximum value is {show2dec(max_y)} when x is {show2dec(max_x)}.')\n",
    "\n",
    "# TODO: Create a formatted print statement to print the minimum function value and the corresponding x-value.\n",
    "print(f'The minimum value is {show2dec(min_y)} when x is {show2dec(min_x)}.')"
   ]
  }
 ],
 "metadata": {
  "kernelspec": {
   "display_name": "Python 3",
   "language": "python",
   "name": "python3"
  },
  "language_info": {
   "codemirror_mode": {
    "name": "ipython",
    "version": 3
   },
   "file_extension": ".py",
   "mimetype": "text/x-python",
   "name": "python",
   "nbconvert_exporter": "python",
   "pygments_lexer": "ipython3",
   "version": "3.9.7"
  },
  "varInspector": {
   "cols": {
    "lenName": 16,
    "lenType": 16,
    "lenVar": 40
   },
   "kernels_config": {
    "python": {
     "delete_cmd_postfix": "",
     "delete_cmd_prefix": "del ",
     "library": "var_list.py",
     "varRefreshCmd": "print(var_dic_list())"
    },
    "r": {
     "delete_cmd_postfix": ") ",
     "delete_cmd_prefix": "rm(",
     "library": "var_list.r",
     "varRefreshCmd": "cat(var_dic_list()) "
    }
   },
   "types_to_exclude": [
    "module",
    "function",
    "builtin_function_or_method",
    "instance",
    "_Feature"
   ],
   "window_display": false
  }
 },
 "nbformat": 4,
 "nbformat_minor": 4
}
