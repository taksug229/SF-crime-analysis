{
 "cells": [
  {
   "cell_type": "code",
   "execution_count": 2,
   "metadata": {},
   "outputs": [],
   "source": [
    "from IPython.core.display import HTML\n",
    "from IPython.lib.display import YouTubeVideo\n",
    "\n",
    "\n",
    "def css_styling():\n",
    "    styles = open(\"../Data/www/styles/custom.css\", \"r\").read()\n",
    "    return HTML(styles)\n",
    "css_styling()"
   ]
  },
  {
   "cell_type": "markdown",
   "metadata": {},
   "source": [
    "# Welcome to the Jupyter Notebook\n",
    "\n",
    "What we have just opened (and where we came from) is a Jupyter notebook. "
   ]
  },
  {
   "cell_type": "markdown",
   "metadata": {},
   "source": [
    "## Python and its interpreter\n",
    "\n",
    "When you have a compiled language, typically what you have to do is write all of the code first. Then you have to run some commands to turn that code into a program that can be executed by the machine. At that point, you can then run your own program.\n",
    "\n",
    "What you can probably guess is that if you want to test something simple, like what happens when one multiplies a word by a number, you have to write a whole bunch of extra code to just test one thing.\n",
    "\n",
    "Having an interpreter changes that."
   ]
  },
  {
   "cell_type": "code",
   "execution_count": 3,
   "metadata": {},
   "outputs": [
    {
     "data": {
      "image/jpeg": "[encoded data removed]",
      "text/html": [
       "\n",
       "        <iframe\n",
       "            width=\"400\"\n",
       "            height=\"300\"\n",
       "            src=\"https://www.youtube.com/embed/UfjzqZK8Db4\"\n",
       "            frameborder=\"0\"\n",
       "            allowfullscreen\n",
       "        ></iframe>\n",
       "        "
      ],
      "text/plain": [
       "<IPython.lib.display.YouTubeVideo at 0x10f9c96d0>"
      ]
     },
     "execution_count": 3,
     "metadata": {},
     "output_type": "execute_result"
    }
   ],
   "source": [
    "YouTubeVideo('UfjzqZK8Db4')"
   ]
  },
  {
   "cell_type": "markdown",
   "metadata": {},
   "source": [
    "## Notebook is the best interpreter!\n",
    "\n",
    "Jupyter notebooks can run the interpreter. In fact whenever you move to a new cell it is by default a Python interpreter!\n",
    "\n",
    "Let me show you:"
   ]
  },
  {
   "cell_type": "code",
   "execution_count": 4,
   "metadata": {},
   "outputs": [
    {
     "data": {
      "text/plain": [
       "'wordwordwordwordwordwordword'"
      ]
     },
     "execution_count": 4,
     "metadata": {},
     "output_type": "execute_result"
    }
   ],
   "source": [
    "'word' * 7"
   ]
  },
  {
   "cell_type": "markdown",
   "metadata": {},
   "source": [
    "There are a lot of nice features that come along with having the interpreter in a web page.\n",
    "\n",
    "* It's really easy to copy/write/edit long Python code\n",
    "* It's very simple to plot/polish images\n",
    "* It's easy to work on separate parts of your code independently\n",
    "\n",
    "Now the Notebook isn't perfect for everything and there are some drawbacks/points to be aware of. But for learning, initial development, and preliminary data analysis it is the best tool by far."
   ]
  },
  {
   "cell_type": "markdown",
   "metadata": {
    "tags": []
   },
   "source": [
    "### The cell\n",
    "\n",
    "The **gray boxes** are called **cells**.\n",
    "\n",
    "A **cell** can have its type changed. By default its type is `Code`, which means Python code. To produce a text paragraphs, you should use `Markdown`.\n",
    "\n",
    "**When a cell does not have a prompt to the side that means it is not a `Code` cell**\n",
    "\n",
    "\n",
    "### Running cells\n",
    "\n",
    "We can type code in a cell, but until we push the `play` button at the top or press `Shift+Enter` it has not been \"run.\"\n",
    "\n",
    "We can check this because there will not be a number in the prompt to the side.\n",
    "\n",
    "When a cell has a number to the side that means that the cell has been **executed**.\n",
    "\n",
    "That number also tells you the order that the cell was executed in.\n",
    "\n",
    "**Cells can and are executed out of the linear order that they appear in the page!**"
   ]
  },
  {
   "cell_type": "code",
   "execution_count": 6,
   "metadata": {},
   "outputs": [
    {
     "data": {
      "text/plain": [
       "10"
      ]
     },
     "execution_count": 6,
     "metadata": {},
     "output_type": "execute_result"
    }
   ],
   "source": [
    "#Execute me second\n",
    "\n",
    "a_number * 2"
   ]
  },
  {
   "cell_type": "code",
   "execution_count": 5,
   "metadata": {},
   "outputs": [],
   "source": [
    "#Execute me first \n",
    "\n",
    "a_number = 5"
   ]
  },
  {
   "cell_type": "markdown",
   "metadata": {},
   "source": [
    "Be aware that once you use a variable name, \n",
    "**it persists across all cells going forward in execution order**."
   ]
  },
  {
   "cell_type": "code",
   "execution_count": 7,
   "metadata": {},
   "outputs": [
    {
     "data": {
      "text/plain": [
       "25"
      ]
     },
     "execution_count": 7,
     "metadata": {},
     "output_type": "execute_result"
    }
   ],
   "source": [
    "a_number * 5"
   ]
  },
  {
   "cell_type": "markdown",
   "metadata": {},
   "source": [
    "### Execution of code inside a cell\n",
    "\n",
    "Each line of code inside a cell is called a **statement**.\n",
    "\n",
    "Statements are executed in the order in which they appear inside the cell unless you use **flow control** commands.  \n",
    "\n",
    "Flow control enables you to avoid executing some statements, repeat the execution of some statements. Sets of statements whose execution is controlled by flow control commands are called **blocks**. \n",
    "\n",
    "Python uses **indentation** to highlight block structures in the code.\n"
   ]
  },
  {
   "cell_type": "code",
   "execution_count": 9,
   "metadata": {},
   "outputs": [
    {
     "name": "stdout",
     "output_type": "stream",
     "text": [
      "Greater than 2!\n"
     ]
    }
   ],
   "source": [
    "if a_number > 2:\n",
    "    print('Greater than 2!')\n",
    "else:\n",
    "    print('Not greater than 2!')"
   ]
  },
  {
   "cell_type": "markdown",
   "metadata": {},
   "source": [
    "## Notebook features\n",
    "\n",
    "### Tab Completion\n",
    "\n",
    "Tab-completion does what it says: when you press `tab` it completes what you're typing as if it knows what it is."
   ]
  },
  {
   "cell_type": "code",
   "execution_count": 10,
   "metadata": {},
   "outputs": [
    {
     "data": {
      "text/plain": [
       "5"
      ]
     },
     "execution_count": 10,
     "metadata": {},
     "output_type": "execute_result"
    }
   ],
   "source": [
    "#Place your cursor at the `_` and press tab\n",
    "\n",
    "a_number"
   ]
  },
  {
   "cell_type": "markdown",
   "metadata": {},
   "source": [
    "### Helpful documentation\n",
    "\n",
    "You hopefully noticed the lines starting with '#' and colored green.  Those lines are **comments**. Their purpose is to provide information to the person reading the code.  They help make code more readible and should be used intelligently.\n",
    "\n",
    "However, commenting should be used for choices made by the developer of the code.  You should not typically provide information on things that are part of standard Python.\n",
    "\n",
    "Fortunately, for those things, help is always a click away. Whenever you have a function whose working you are unsure about, you can have the Notebook look it up for you by pressing `Shift+Tab` inside the parentheses."
   ]
  },
  {
   "cell_type": "code",
   "execution_count": null,
   "metadata": {},
   "outputs": [],
   "source": [
    "#Place your cursor after the `(` and press Shift+Tab\n",
    "\n",
    "range()"
   ]
  },
  {
   "cell_type": "markdown",
   "metadata": {
    "tags": []
   },
   "source": [
    "### Commenting multiple lines\n",
    "\n",
    "You can also easily comment multiple lines. Just select multiple lines with your cursor and then press `Cmd and /` (`Ctrl and /` for Windows)\n",
    "\n",
    "(You can uncomment multiple lines with the same key command)"
   ]
  },
  {
   "cell_type": "code",
   "execution_count": null,
   "metadata": {},
   "outputs": [],
   "source": [
    "#Highlight the lines and then press Cmd+/\n",
    "\n",
    "# one_variable = 1\n",
    "# two_variable = 2"
   ]
  },
  {
   "cell_type": "markdown",
   "metadata": {},
   "source": [
    "### Indenting multiple lines\n",
    "\n",
    "As code gets complex, blocks of code (see above) can occur inside other blocks. As you write your code, you may change the structure of your program and may need to change the indentation of multiple lines of code.\n",
    "\n",
    "You can indent multiple lines by selecting them and then pressing `Tab`.\n",
    "\n",
    "To de-indent, you press `Shift+Tab` instead."
   ]
  },
  {
   "cell_type": "code",
   "execution_count": null,
   "metadata": {},
   "outputs": [],
   "source": [
    "#Highlight the lines and then press Tab\n",
    "\n",
    "one_variable = 1\n",
    "one_variable = 2"
   ]
  },
  {
   "cell_type": "markdown",
   "metadata": {},
   "source": [
    "There are more key commands if you're interested in using them.\n",
    "\n",
    "To see the list of keyboard commands just press `Esc` and then `h`, that will bring up the entire list of keyboard commands.\n",
    "\n",
    "But for now, that's more than enough to get going. Let's learn Python!\n",
    "\n",
    "\n",
    "\n",
    "\n",
    "\n"
   ]
  },
  {
   "cell_type": "code",
   "execution_count": null,
   "metadata": {},
   "outputs": [],
   "source": []
  }
 ],
 "metadata": {
  "anaconda-cloud": {},
  "kernelspec": {
   "display_name": "Python 3",
   "language": "python",
   "name": "python3"
  },
  "language_info": {
   "codemirror_mode": {
    "name": "ipython",
    "version": 3
   },
   "file_extension": ".py",
   "mimetype": "text/x-python",
   "name": "python",
   "nbconvert_exporter": "python",
   "pygments_lexer": "ipython3",
   "version": "3.9.7"
  }
 },
 "nbformat": 4,
 "nbformat_minor": 4
}
