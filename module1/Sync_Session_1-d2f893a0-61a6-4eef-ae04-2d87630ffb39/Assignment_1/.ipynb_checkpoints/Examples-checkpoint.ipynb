{
 "cells": [
  {
   "cell_type": "markdown",
   "metadata": {},
   "source": [
    "### Example 1"
   ]
  },
  {
   "cell_type": "code",
   "execution_count": 1,
   "metadata": {},
   "outputs": [
    {
     "name": "stdout",
     "output_type": "stream",
     "text": [
      "Enter the first number: 5\n",
      "Enter the second number: 7\n",
      "The sum of the two numbers is: 12\n"
     ]
    }
   ],
   "source": [
    "# calculate the sum of two integer numbers\n",
    "# Step 1: read first number\n",
    "# Step 2: read second number\n",
    "# Step 3: Add the two numbers\n",
    "# Step 4: Print the result\n",
    "\n",
    "\n",
    "first_number_str = input(\"Enter the first number: \")\n",
    "first_number_int = int(first_number_str)\n",
    "\n",
    "second_number_str = input(\"Enter the second number: \")\n",
    "second_number_int = int(second_number_str)\n",
    "\n",
    "sum = first_number_int + second_number_int\n",
    "\n",
    "print (\"The sum of the two numbers is:\",sum)\n",
    "\n"
   ]
  },
  {
   "cell_type": "code",
   "execution_count": 2,
   "metadata": {},
   "outputs": [
    {
     "name": "stdout",
     "output_type": "stream",
     "text": [
      "The sum of the two numbers is: 57\n"
     ]
    }
   ],
   "source": [
    "# what will happen if you add the strings typed as input?\n",
    "\n",
    "print (\"The sum of the two numbers is:\", first_number_str + second_number_str)"
   ]
  },
  {
   "cell_type": "markdown",
   "metadata": {},
   "source": [
    "### Example 2"
   ]
  },
  {
   "cell_type": "code",
   "execution_count": 3,
   "metadata": {},
   "outputs": [
    {
     "name": "stdout",
     "output_type": "stream",
     "text": [
      "Enter the radius of your circle: 5\n",
      "The cirumference is: 31.41592653589793 , and the area is: 78.53981633974483\n"
     ]
    }
   ],
   "source": [
    "# calculate the area and circumference of a circle from its radius\n",
    "# Step 1: prompt for a radius\n",
    "# Step 2: apply the area formula\n",
    "# Step 3: Print out the results\n",
    "\n",
    "import math \n",
    "\n",
    "radius_str = input(\"Enter the radius of your circle: \")\n",
    "radius_int = int(radius_str)\n",
    "\n",
    "circumference = 2 * math.pi * radius_int\n",
    "area = math.pi * (radius_int ** 2)\n",
    "\n",
    "print (\"The cirumference is:\",circumference,  \\\n",
    "      \", and the area is:\",area)"
   ]
  },
  {
   "cell_type": "markdown",
   "metadata": {},
   "source": [
    "### Example 3"
   ]
  },
  {
   "cell_type": "code",
   "execution_count": 4,
   "metadata": {},
   "outputs": [
    {
     "name": "stdout",
     "output_type": "stream",
     "text": [
      "Enter the first number: 7\n",
      "Enter the second number: 3\n",
      "first_number_int is bigger than second_number_int\n"
     ]
    }
   ],
   "source": [
    "# If statement\n",
    "\n",
    "first_number_str = input(\"Enter the first number: \")\n",
    "first_number_int = int(first_number_str)\n",
    "\n",
    "second_number_str = input(\"Enter the second number: \")\n",
    "second_number_int = int(second_number_str)\n",
    "\n",
    "\n",
    "if first_number_int > second_number_int:\n",
    "    print (\"first_number_int is bigger than second_number_int\")"
   ]
  },
  {
   "cell_type": "code",
   "execution_count": 5,
   "metadata": {},
   "outputs": [
    {
     "name": "stdout",
     "output_type": "stream",
     "text": [
      "What is your percentage? 89.3\n",
      "you received a B\n"
     ]
    }
   ],
   "source": [
    "# If Statement\n",
    "# determine a letter grade from a percentage input\n",
    "# by the user\n",
    "\n",
    "percent_float = float(input(\"What is your percentage? \"))\n",
    "\n",
    "if 90 <= percent_float < 100:\n",
    "    print(\"you received an A\")\n",
    "elif 80 <= percent_float < 90:\n",
    "    print(\"you received a B\")\n",
    "elif 70 <= percent_float < 80:\n",
    "    print(\"you received a C\")\n",
    "elif 60 <= percent_float < 70:\n",
    "    print(\"you received a D\")\n",
    "else:\n",
    "    print(\"oops, not good\")\n",
    "\n",
    "    \n"
   ]
  },
  {
   "cell_type": "markdown",
   "metadata": {},
   "source": [
    "### Example 4"
   ]
  },
  {
   "cell_type": "code",
   "execution_count": 6,
   "metadata": {},
   "outputs": [
    {
     "name": "stdout",
     "output_type": "stream",
     "text": [
      "0 1 2 3 4 5 6 7 8 9 \n",
      "Final value of x_int:  10\n"
     ]
    }
   ],
   "source": [
    "# simple while\n",
    "\n",
    "x_int = 0     # initialize loop-control variable\n",
    "\n",
    "# test loop-control variable at beginning of loop\n",
    "while x_int < 10:\n",
    "    print(x_int, end=' ')  # print the value of x_int each time through the while loop\n",
    "    x_int = x_int + 1      # change loop-control variable\n",
    "\n",
    "print()\n",
    "print(\"Final value of x_int: \", x_int)  # bigger than value printed in loop!"
   ]
  },
  {
   "cell_type": "markdown",
   "metadata": {},
   "source": [
    "### Example 5"
   ]
  },
  {
   "cell_type": "code",
   "execution_count": 7,
   "metadata": {},
   "outputs": [
    {
     "name": "stdout",
     "output_type": "stream",
     "text": [
      "0\n",
      "1\n",
      "2\n",
      "3\n",
      "4\n"
     ]
    }
   ],
   "source": [
    "for x in range(5):\n",
    "  print(x)"
   ]
  },
  {
   "cell_type": "code",
   "execution_count": 8,
   "metadata": {},
   "outputs": [
    {
     "name": "stdout",
     "output_type": "stream",
     "text": [
      "2\n",
      "3\n",
      "4\n"
     ]
    }
   ],
   "source": [
    "for x in range(2, 5):\n",
    "  print(x)"
   ]
  },
  {
   "cell_type": "code",
   "execution_count": 9,
   "metadata": {},
   "outputs": [
    {
     "name": "stdout",
     "output_type": "stream",
     "text": [
      "0\n",
      "2\n",
      "4\n",
      "6\n",
      "8\n"
     ]
    }
   ],
   "source": [
    "for x in range(0, 10, 2):\n",
    "  print(x)"
   ]
  },
  {
   "cell_type": "code",
   "execution_count": 10,
   "metadata": {},
   "outputs": [
    {
     "name": "stdout",
     "output_type": "stream",
     "text": [
      "Apple\n",
      "Orange\n",
      "Banana\n"
     ]
    }
   ],
   "source": [
    "fruits = [\"Apple\", \"Orange\", \"Banana\"]\n",
    "\n",
    "\n",
    "for fruit in fruits:\n",
    "    print(fruit) "
   ]
  },
  {
   "cell_type": "code",
   "execution_count": null,
   "metadata": {},
   "outputs": [],
   "source": []
  }
 ],
 "metadata": {
  "kernelspec": {
   "display_name": "Python 3",
   "language": "python",
   "name": "python3"
  },
  "language_info": {
   "codemirror_mode": {
    "name": "ipython",
    "version": 3
   },
   "file_extension": ".py",
   "mimetype": "text/x-python",
   "name": "python",
   "nbconvert_exporter": "python",
   "pygments_lexer": "ipython3",
   "version": "3.8.5"
  }
 },
 "nbformat": 4,
 "nbformat_minor": 4
}
