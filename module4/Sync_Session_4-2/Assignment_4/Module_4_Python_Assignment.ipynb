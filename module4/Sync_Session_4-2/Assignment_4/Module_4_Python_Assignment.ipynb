{
 "cells": [
  {
   "cell_type": "markdown",
   "metadata": {},
   "source": [
    "# MSDS 430 Module 4 Python Assignment "
   ]
  },
  {
   "cell_type": "markdown",
   "metadata": {},
   "source": [
    "<div class=\"alert alert-block alert-warning\"><b>In this assignment you will read through the notebook and complete the exercises. Once you are satisfied with the results, submit your notebook, html file, and output.txt file to Canvas. Your files should include all output, i.e. run each cell and save your file before submitting.</b></div>"
   ]
  },
  {
   "cell_type": "markdown",
   "metadata": {},
   "source": [
    "<div class=\"alert alert-block alert-danger\"><b>Note:</b> You also must submit your <b>car_totals.xlsx</b> file to Canvas for grading in addition to the usual notebook and html files.</div>"
   ]
  },
  {
   "cell_type": "markdown",
   "metadata": {},
   "source": [
    "<div class=\"alert alert-block alert-info\">One aspect of data science is working with data from files. In this assignment we will learn to read in data from four differnt file types:\n",
    "    \n",
    "1. text file (using a for loop and .readlines)\n",
    "2. csv file (using pandas)\n",
    "3. excel file (using pandas)\n",
    "4. JSON file (using json)\n",
    "    \n",
    "In the process we will be creating and manipulating Python lists. We will also see how data can be written to a new excel file. Later in the course we'll learn more about how to display this information neatly and manipulate the data more efficiently, but for now we start by learning the basics of reading and writing files.</div>"
   ]
  },
  {
   "cell_type": "markdown",
   "metadata": {},
   "source": [
    "### Reading Text Files"
   ]
  },
  {
   "cell_type": "markdown",
   "metadata": {},
   "source": [
    "You are given a file `cars.txt` that contains a sample of vehicle types with information about their performance.  Each row in the text file is a list of six values (`Type`, `Year`, `MPG`, `CO2 Emissions`, `Weight`, `HP`) separated by spaces. Note that the first column `Type` contains both the car type and the number of cylinders. \n",
    "\n",
    "`Sedan/Wagon/6\t2018\t28.2\t315.6\t4098\t313\n",
    "    CarSUV/6\t2018\t26.9\t330\t    4321\t285\n",
    "        Van/6\t2018\t26.9\t329\t    4635\t282\n",
    "    TruckSUV/6\t2018\t23.9\t371.5\t4760\t297\n",
    "    Pickup/6\t2018\t23.1\t384.7\t4791\t305\n",
    "Sedan/Wagon/8\t2018\t24.2\t367.8\t4345\t477\n",
    "    CarSUV/4\t2018\t30.2\t295.1\t3736\t181\n",
    "        Van/8\t2018\t15.4\t577.1\t6647\t324\n",
    "    TruckSUV/8\t2018\t20.8\t428.2\t6031\t387\n",
    "    Pickup/8\t2018\t20.9\t424.6\t5642\t375`\n",
    "\n",
    "\n",
    "In Python, there is an `open` method that takes the name of a text file in the current directory (or more generally a path to a text file in any directory on your computer) and returns what is known as a `file object`. This file object can be used to read from existing text file, create and write to a new file or append text to a pre-existing file. See \n",
    "\n",
    "__[Opening Files in Python](https://docs.python.org/3/library/functions.html#open)__\n",
    "\n",
    "For example, \n",
    "```python\n",
    "fileName = open('my_file.txt',r)\n",
    "```\n",
    "\n",
    "would open a file with filename `my_file.txt` for reading (i.e. `mode = 'r'`) and returns a corresponding file object which is assigned to the variable `fileName`. \n",
    "\n",
    "If the file cannot be opened for some reason (e.g. if the file doesn't exist in the current directory), then an error is generated. More specifically, an `Exception` object is created and said to be \"thrown\". "
   ]
  },
  {
   "cell_type": "code",
   "execution_count": 1,
   "metadata": {},
   "outputs": [],
   "source": [
    "# set up notebook to display multiple output in one cell\n",
    "from IPython.core.interactiveshell import InteractiveShell\n",
    "InteractiveShell.ast_node_interactivity = \"all\""
   ]
  },
  {
   "cell_type": "code",
   "execution_count": 2,
   "metadata": {},
   "outputs": [],
   "source": [
    "# open text file\n",
    "fileName = open('cars.txt', 'r')"
   ]
  },
  {
   "cell_type": "markdown",
   "metadata": {},
   "source": [
    "### Displaying File Contents\n",
    "\n",
    "If `filename` is a file object corresponding to a text file, you can iterate over the lines of text in the file as follows:\n",
    "```python\n",
    "for line in filename:\n",
    "   # Do something with each line...for example we can print the line\n",
    "   # print(line)\n",
    "```"
   ]
  },
  {
   "cell_type": "code",
   "execution_count": 3,
   "metadata": {},
   "outputs": [
    {
     "name": "stdout",
     "output_type": "stream",
     "text": [
      "Sedan/Wagon/6\t2018\t28.2\t315.6\t4098\t313\n",
      "\n",
      "CarSUV/6\t2018\t26.9\t330\t4321\t285\n",
      "\n",
      "Van/6\t2018\t26.9\t329\t4635\t282\n",
      "\n",
      "TruckSUV/6\t2018\t23.9\t371.5\t4760\t297\n",
      "\n",
      "Pickup/6\t2018\t23.1\t384.7\t4791\t305\n",
      "\n",
      "Sedan/Wagon/8\t2018\t24.2\t367.8\t4345\t477\n",
      "\n",
      "CarSUV/4\t2018\t30.2\t295.1\t3736\t181\n",
      "\n",
      "Van/8\t2018\t15.4\t577.1\t6647\t324\n",
      "\n",
      "TruckSUV/8\t2018\t20.8\t428.2\t6031\t387\n",
      "\n",
      "Pickup/8\t2018\t20.9\t424.6\t5642\t375\n"
     ]
    }
   ],
   "source": [
    "# loop through the text file and read one line at a time\n",
    "# the variable 'line' will take on the value of each line and then get over written with\n",
    "# each new line\n",
    "for line in fileName:\n",
    "    print(line)"
   ]
  },
  {
   "cell_type": "code",
   "execution_count": 4,
   "metadata": {},
   "outputs": [
    {
     "data": {
      "text/plain": [
       "'Pickup/8\\t2018\\t20.9\\t424.6\\t5642\\t375'"
      ]
     },
     "execution_count": 4,
     "metadata": {},
     "output_type": "execute_result"
    },
    {
     "data": {
      "text/plain": [
       "str"
      ]
     },
     "execution_count": 4,
     "metadata": {},
     "output_type": "execute_result"
    }
   ],
   "source": [
    "# look at the variable 'line'. Notice that it contains only the last line from the file and that it is a string.\n",
    "# And you can see that the columns are separated by \\t or tabs\n",
    "line\n",
    "\n",
    "type(line)"
   ]
  },
  {
   "cell_type": "markdown",
   "metadata": {},
   "source": [
    "## Python Collection Data Types\n",
    "\n",
    "Python has four collection types: Lists, Tuples, Dictionaries and Sets.  This week we will discuss Lists and Tuples. <br>\n",
    "\n",
    "1. **Lists** are ordered sequences of elements, with that order being specified by the order that the elements are in when the list is created or as elements are added to the list.  \n",
    "\n",
    "    1. Lists are created using the `[]` syntax.\n",
    "    \n",
    "    2. Lists are <font color ='green'>**mutable**</font>. You can add, remove, and replace values using functions such as `append()`, `extend()`, `insert()`, `pop()`, `remove()`, and `del`. \n",
    "    \n",
    "    3. Lists can be created by string functions such as split() and strip().\n",
    "    \n",
    "2. **Tuples** are similar to lists except for the very important fact that they are <font color = 'green'>**immutable**</font>.\n",
    "\n",
    "    1. Tuples are created using the `()` syntax.\n",
    "    \n",
    "    2. Since Tuples are immutable, there are no functions that are built-in to modify the variables of Tuples.\n",
    "    \n",
    "    3. When to use a Tuple?  When you have data that will never change, like the days of the week:\n",
    "       `days_of_the_week = (\"Sunday\", \"Monday\", \"Tuesday\", \"Wednesday\", \"Thursday\", \"Friday\", \"Saturday\")`\n",
    "    \n",
    "3. **Both Lists and Tuples**\n",
    "\n",
    "    1. Can include mixed data types.\n",
    "    \n",
    "    2. Are accessed by index.\n",
    "    \n",
    "    3. Contain a sequence of individual elements.\n",
    "    \n",
    "    4. Are stored in the order in that they were added."
   ]
  },
  {
   "cell_type": "markdown",
   "metadata": {},
   "source": [
    "### Separate each column of line\n",
    "We will use the `split()` method (defined in the String class) to break up each line of the file (which we showed above is a String object) into a list of its six string values (`Type, Year. MPG (miles per gallon), CO2 Emissions, Weight, HP (horse power`). We will study the String class and more of its methods in detail in a later module. \n",
    "\n",
    "To use the split method we need to first have a String object. Below we create String object called `line`. Then we call the `split()` method on this object in this way:\n",
    "```python\n",
    "line.split()\n",
    "```\n",
    "\n",
    "Run the cell below to see what you get..."
   ]
  },
  {
   "cell_type": "code",
   "execution_count": 5,
   "metadata": {},
   "outputs": [
    {
     "name": "stdout",
     "output_type": "stream",
     "text": [
      "['Pickup/8', '2018', '20.9', '424.6', '5642', '375']\n"
     ]
    },
    {
     "data": {
      "text/plain": [
       "list"
      ]
     },
     "execution_count": 5,
     "metadata": {},
     "output_type": "execute_result"
    }
   ],
   "source": [
    "# let's use the split method to create a list of values for the line\n",
    "lst = line.split()\n",
    "print(lst)\n",
    "\n",
    "type(lst)"
   ]
  },
  {
   "cell_type": "markdown",
   "metadata": {},
   "source": [
    "Run the following three cells for some examples showing how to access elements of the list.."
   ]
  },
  {
   "cell_type": "code",
   "execution_count": 6,
   "metadata": {},
   "outputs": [
    {
     "name": "stdout",
     "output_type": "stream",
     "text": [
      "The first element of the list is Pickup/8\n"
     ]
    }
   ],
   "source": [
    "print(f'The first element of the list is {lst[0]}')"
   ]
  },
  {
   "cell_type": "code",
   "execution_count": 7,
   "metadata": {},
   "outputs": [
    {
     "name": "stdout",
     "output_type": "stream",
     "text": [
      "The fifth element of the list is 5642\n"
     ]
    }
   ],
   "source": [
    "print(f'The fifth element of the list is {lst[4]}')"
   ]
  },
  {
   "cell_type": "code",
   "execution_count": 8,
   "metadata": {},
   "outputs": [
    {
     "name": "stdout",
     "output_type": "stream",
     "text": [
      "The last element of the list is 375\n"
     ]
    }
   ],
   "source": [
    "print(f'The last element of the list is {lst[-1]}')"
   ]
  },
  {
   "cell_type": "markdown",
   "metadata": {},
   "source": [
    "<div class=\"alert alert-block alert-success\"><b>Problem 1 (2 pts)</b>: Iterate over lines in the file as demonstrated above and print the following for each line:</div>\n",
    "\n",
    "`\" < Type > 'has an MPG of < MPG > 'with' < HP > 'Horse power'\"`<br>\n",
    "\n",
    "<div class=\"alert alert-block alert-info\">For example, the first line printed should look like this: </div>\n",
    "\n",
    "`Sedan/Wagon/6 has an MPG of 28.2 with 313 Horse power`"
   ]
  },
  {
   "cell_type": "code",
   "execution_count": 0,
   "metadata": {},
   "outputs": [],
   "source": [
    "cars = open(\"cars.txt\", \"r\")\n",
    "\n",
    "for line in cars:\n",
    "    \n",
    "    # TO DO\n",
    "    # Split the line into a list of strings..\n",
    "     \n",
    "    \n",
    "    # TO DO\n",
    "    # Print the sentence...\n",
    "     \n",
    "\n",
    "# We close the file\n",
    "cars.close()"
   ]
  },
  {
   "cell_type": "markdown",
   "metadata": {},
   "source": [
    "### Creating Lists"
   ]
  },
  {
   "cell_type": "markdown",
   "metadata": {},
   "source": [
    "Our next objective is to create three lists from the data: (1) a list of the vehicle types (2) the corresponding list of MPG and 3) the corresponding list of Weight. \n",
    "\n",
    "But first we open the `cars.txt` file for reading again. This time we read all the lines at once using the file object's `readlines` method. What do you get when you run the following method?"
   ]
  },
  {
   "cell_type": "code",
   "execution_count": 9,
   "metadata": {},
   "outputs": [
    {
     "name": "stdout",
     "output_type": "stream",
     "text": [
      "['Sedan/Wagon/6\\t2018\\t28.2\\t315.6\\t4098\\t313\\n', 'CarSUV/6\\t2018\\t26.9\\t330\\t4321\\t285\\n', 'Van/6\\t2018\\t26.9\\t329\\t4635\\t282\\n', 'TruckSUV/6\\t2018\\t23.9\\t371.5\\t4760\\t297\\n', 'Pickup/6\\t2018\\t23.1\\t384.7\\t4791\\t305\\n', 'Sedan/Wagon/8\\t2018\\t24.2\\t367.8\\t4345\\t477\\n', 'CarSUV/4\\t2018\\t30.2\\t295.1\\t3736\\t181\\n', 'Van/8\\t2018\\t15.4\\t577.1\\t6647\\t324\\n', 'TruckSUV/8\\t2018\\t20.8\\t428.2\\t6031\\t387\\n', 'Pickup/8\\t2018\\t20.9\\t424.6\\t5642\\t375']\n",
      "========================================\n"
     ]
    },
    {
     "data": {
      "text/plain": [
       "list"
      ]
     },
     "execution_count": 9,
     "metadata": {},
     "output_type": "execute_result"
    }
   ],
   "source": [
    "# lines is a list that contains the entire file with \\n - which designates a new line\n",
    "cars = open(\"cars.txt\", \"r\")\n",
    "lines = cars.readlines()\n",
    "print(lines)\n",
    "print(40*'=')\n",
    "# lines is a list, right?\n",
    "type(lines)"
   ]
  },
  {
   "cell_type": "markdown",
   "metadata": {},
   "source": [
    "We iterate over `lines` in much the same way we iterated over (the file object) `cars`. But first let us give some examples of how the `append` list method can be used to \"grow\" a list from scratch. As usual, you want to make sure you are running each of cells in the notebook one at a time..."
   ]
  },
  {
   "cell_type": "code",
   "execution_count": 10,
   "metadata": {},
   "outputs": [
    {
     "name": "stdout",
     "output_type": "stream",
     "text": [
      "my_list with name  ['Guido van Rossum']\n",
      "my_list with name and age  ['Guido van Rossum', 25]\n"
     ]
    }
   ],
   "source": [
    "# start with an empty list\n",
    "my_list = []\n",
    "# say we have a value we would like to append to the list\n",
    "name = \"Guido van Rossum\"\n",
    "# add it to the list\n",
    "my_list.append(name)\n",
    "print('my_list with name ', my_list)\n",
    "# here is value of a different type...\n",
    "age = 25\n",
    "# append that to my_list as well...\n",
    "my_list.append(age)\n",
    "# print the list\n",
    "print('my_list with name and age ', my_list)"
   ]
  },
  {
   "cell_type": "markdown",
   "metadata": {},
   "source": [
    "<div class=\"alert alert-block alert-success\"><b>Problem 2 (2 pts.)</b>: Remember that `lines` list still contains the content from the `cars.txt` file. Complete the TODO in the cell below. The cell starts with three empty lists: <b><i>types,</i></b> <b><i>MPG</i></b> and <b><i>weight</i></b>. The loop should then iterate over the <b><i>lines</i></b> list, splitting each line in turn, and then obtaining both the type of car and each value adding the values to the corresponding list.</div>"
   ]
  },
  {
   "cell_type": "code",
   "execution_count": 0,
   "metadata": {},
   "outputs": [],
   "source": [
    "types = []\n",
    "MPG = []\n",
    "weight = []\n",
    "\n",
    "for line in lines:\n",
    "    # TODO\n",
    "    # Append the name of each type, MPG and Weight to the appropriate list.\n",
    " "
   ]
  },
  {
   "cell_type": "markdown",
   "metadata": {},
   "source": [
    "Run the following three cells to check that `types`, `MPG` and `weight` lists were constructed properly."
   ]
  },
  {
   "cell_type": "code",
   "execution_count": 0,
   "metadata": {},
   "outputs": [],
   "source": [
    "# show the list of types\n",
    "print(types)"
   ]
  },
  {
   "cell_type": "code",
   "execution_count": 0,
   "metadata": {},
   "outputs": [],
   "source": [
    "# show the list of MPG\n",
    "print(MPG)"
   ]
  },
  {
   "cell_type": "code",
   "execution_count": 0,
   "metadata": {},
   "outputs": [],
   "source": [
    "# show the list of Weights\n",
    "print(weight)"
   ]
  },
  {
   "cell_type": "markdown",
   "metadata": {},
   "source": [
    "### Working with Methods"
   ]
  },
  {
   "cell_type": "markdown",
   "metadata": {},
   "source": [
    "Next we will introduce two list methods and ask you use them together in a program. First we have the `max` method to get the maximum value in a list."
   ]
  },
  {
   "cell_type": "code",
   "execution_count": 11,
   "metadata": {},
   "outputs": [
    {
     "data": {
      "text/plain": [
       "10"
      ]
     },
     "execution_count": 11,
     "metadata": {},
     "output_type": "execute_result"
    }
   ],
   "source": [
    "my_list = [1,2,3,10,4,5,6]\n",
    "max(my_list)"
   ]
  },
  {
   "cell_type": "markdown",
   "metadata": {},
   "source": [
    "Second, we can get the \"position\" of any value in the list using the `index` method. Note that the first position has `index` **zero** and not **one**. So it would be more accurate to think of the `index` as the `offset` as opposed to the `position`. "
   ]
  },
  {
   "cell_type": "code",
   "execution_count": 12,
   "metadata": {},
   "outputs": [
    {
     "data": {
      "text/plain": [
       "3"
      ]
     },
     "execution_count": 12,
     "metadata": {},
     "output_type": "execute_result"
    }
   ],
   "source": [
    "my_list.index(10)"
   ]
  },
  {
   "cell_type": "markdown",
   "metadata": {},
   "source": [
    "Run the following cell to double check that the value in position (offset) 3 really is 10..."
   ]
  },
  {
   "cell_type": "code",
   "execution_count": 13,
   "metadata": {},
   "outputs": [
    {
     "data": {
      "text/plain": [
       "10"
      ]
     },
     "execution_count": 13,
     "metadata": {},
     "output_type": "execute_result"
    }
   ],
   "source": [
    "my_list[3]"
   ]
  },
  {
   "cell_type": "markdown",
   "metadata": {},
   "source": [
    "It is important to understand the two parts of the list and how to access these parts: 1) the actual value in the list 2) the index that represents the actual value."
   ]
  },
  {
   "cell_type": "code",
   "execution_count": 14,
   "metadata": {},
   "outputs": [
    {
     "data": {
      "text/plain": [
       "['red', 'yellow', 'green', 'blue', 'purple']"
      ]
     },
     "execution_count": 14,
     "metadata": {},
     "output_type": "execute_result"
    },
    {
     "data": {
      "text/plain": [
       "list"
      ]
     },
     "execution_count": 14,
     "metadata": {},
     "output_type": "execute_result"
    },
    {
     "data": {
      "text/plain": [
       "5"
      ]
     },
     "execution_count": 14,
     "metadata": {},
     "output_type": "execute_result"
    }
   ],
   "source": [
    "# new list of colors\n",
    "my_list2 = ['red','yellow','green','blue','purple']\n",
    "\n",
    "# look at my_list2 - which show you all of the elements\n",
    "my_list2\n",
    "\n",
    "# confirm it is a list\n",
    "type(my_list2)\n",
    "\n",
    "# how long is our list?\n",
    "len(my_list2)"
   ]
  },
  {
   "cell_type": "markdown",
   "metadata": {},
   "source": [
    "Below shows a loop through my_list2 with how both the value of the list is referenced and how the index is referenced."
   ]
  },
  {
   "cell_type": "code",
   "execution_count": 15,
   "metadata": {},
   "outputs": [
    {
     "name": "stdout",
     "output_type": "stream",
     "text": [
      "The value is red and the index is 0.\n",
      "The value is yellow and the index is 1.\n",
      "The value is green and the index is 2.\n",
      "The value is blue and the index is 3.\n",
      "The value is purple and the index is 4.\n"
     ]
    }
   ],
   "source": [
    "# loop through my_list2.\n",
    "length = len(my_list2)\n",
    "\n",
    "for num in range(0,length):\n",
    "    print(f'The value is {my_list2[num]} and the index is {num}.')\n",
    "    "
   ]
  },
  {
   "cell_type": "markdown",
   "metadata": {},
   "source": [
    "<div class=\"alert alert-block alert-success\"><b>Problem 3 (6 pts.)</b>: Complete the program in the cell below. We are defining a function <b><i>largest_value</i></b> that takes three list arguments: <b><i>type_list, value_list</i></b> and a variable called<b><i> label</i></b> which will show us what value variable was passed to the function.\n",
    "\n",
    "You will use the three lists you created in Problem 2 to test out the function you write: `Types, MPG and weight`.<br>\n",
    "\n",
    "The function should find the car type with the largest value and print the type of car together with the highest value and the label for that value. </div>\n",
    "\n",
    "<div class=\"alert alert-block alert-info\">For example, <br>\n",
    "\n",
    "`largest_value(['Car1','Car2','Car3'], [30,40,25],'MPG')` should print: \n",
    "\n",
    "**Car2 has the most MPG of 40.**<br>\n"
   ]
  },
  {
   "cell_type": "markdown",
   "metadata": {},
   "source": [
    "## Functions -\n",
    "Remember that utilizing a function has two steps: 1) define the function and 2) call the function.  "
   ]
  },
  {
   "cell_type": "code",
   "execution_count": 0,
   "metadata": {},
   "outputs": [],
   "source": [
    "def largest_value(type_list,value_list, label):\n",
    "    # Find the car with the highest of the value passed\n",
    "    # print out the results as shown above in the blue section\n",
    "    \n",
    "    #TODO - find the maximum value and save to a variable\n",
    "       \n",
    "    #TODO - print out the output as shown above\n",
    " "
   ]
  },
  {
   "cell_type": "code",
   "execution_count": 0,
   "metadata": {},
   "outputs": [],
   "source": [
    "# temporary - can delete later\n",
    "largest_value(['Car1','Car2','Car3'], [30,40,25],'MPG')"
   ]
  },
  {
   "cell_type": "code",
   "execution_count": 0,
   "metadata": {},
   "outputs": [],
   "source": [
    "#TODO run this cell to test the function\n",
    "largest_value(types, MPG, 'MPG')"
   ]
  },
  {
   "cell_type": "code",
   "execution_count": 0,
   "metadata": {},
   "outputs": [],
   "source": [
    "# TODO run this cell to test the function\n",
    "largest_value(types, weight, 'weight')"
   ]
  },
  {
   "cell_type": "markdown",
   "metadata": {},
   "source": [
    "### Reading files using Pandas\n",
    "\n",
    "https://pandas.pydata.org/pandas-docs/stable/getting_started/overview.html\n",
    "\n",
    "**Pandas** is a large library which is used extensively in Data Science to wrangle data.  As you can see in the cell below, the library must be loaded with the command:\n",
    "\n",
    "<font color = 'green'>**import**</font> pandas <font color = 'green'>**as**</font> pd\n",
    "\n",
    "**Pandas** gives you access to two additional data structures: 1) a one dimensional <i><u>Series</i></u> and 2) a two dimensional <i><u>DataFrame</i></u>. We will look at some basics of the DataFrame which has the following attributes:\n",
    "1. spread-sheet like structure\n",
    "2. has ordered collection of columns\n",
    "3. each columns can be of different value types such as numeric, boolean, string, etc.\n",
    "4. has both a row and column index\n"
   ]
  },
  {
   "cell_type": "code",
   "execution_count": 16,
   "metadata": {},
   "outputs": [
    {
     "data": {
      "text/html": [
       "<div>\n",
       "<style scoped>\n",
       "    .dataframe tbody tr th:only-of-type {\n",
       "        vertical-align: middle;\n",
       "    }\n",
       "\n",
       "    .dataframe tbody tr th {\n",
       "        vertical-align: top;\n",
       "    }\n",
       "\n",
       "    .dataframe thead th {\n",
       "        text-align: right;\n",
       "    }\n",
       "</style>\n",
       "<table border=\"1\" class=\"dataframe\">\n",
       "  <thead>\n",
       "    <tr style=\"text-align: right;\">\n",
       "      <th></th>\n",
       "      <th>Sedan/Wagon/6</th>\n",
       "      <th>2018</th>\n",
       "      <th>28.2</th>\n",
       "      <th>315.6</th>\n",
       "      <th>4098</th>\n",
       "      <th>313</th>\n",
       "    </tr>\n",
       "  </thead>\n",
       "  <tbody>\n",
       "    <tr>\n",
       "      <th>0</th>\n",
       "      <td>Car SUV/6</td>\n",
       "      <td>2018</td>\n",
       "      <td>26.9</td>\n",
       "      <td>330.0</td>\n",
       "      <td>4321</td>\n",
       "      <td>285</td>\n",
       "    </tr>\n",
       "    <tr>\n",
       "      <th>1</th>\n",
       "      <td>Van/6</td>\n",
       "      <td>2018</td>\n",
       "      <td>26.9</td>\n",
       "      <td>329.0</td>\n",
       "      <td>4635</td>\n",
       "      <td>282</td>\n",
       "    </tr>\n",
       "    <tr>\n",
       "      <th>2</th>\n",
       "      <td>Truck SUV/6</td>\n",
       "      <td>2018</td>\n",
       "      <td>23.9</td>\n",
       "      <td>371.5</td>\n",
       "      <td>4760</td>\n",
       "      <td>297</td>\n",
       "    </tr>\n",
       "    <tr>\n",
       "      <th>3</th>\n",
       "      <td>Pickup/6</td>\n",
       "      <td>2018</td>\n",
       "      <td>23.1</td>\n",
       "      <td>384.7</td>\n",
       "      <td>4791</td>\n",
       "      <td>305</td>\n",
       "    </tr>\n",
       "    <tr>\n",
       "      <th>4</th>\n",
       "      <td>Sedan/Wagon/8</td>\n",
       "      <td>2018</td>\n",
       "      <td>24.2</td>\n",
       "      <td>367.8</td>\n",
       "      <td>4345</td>\n",
       "      <td>477</td>\n",
       "    </tr>\n",
       "    <tr>\n",
       "      <th>5</th>\n",
       "      <td>Car SUV/4</td>\n",
       "      <td>2018</td>\n",
       "      <td>30.2</td>\n",
       "      <td>295.1</td>\n",
       "      <td>3736</td>\n",
       "      <td>181</td>\n",
       "    </tr>\n",
       "    <tr>\n",
       "      <th>6</th>\n",
       "      <td>Van/8</td>\n",
       "      <td>2018</td>\n",
       "      <td>15.4</td>\n",
       "      <td>577.1</td>\n",
       "      <td>6647</td>\n",
       "      <td>324</td>\n",
       "    </tr>\n",
       "    <tr>\n",
       "      <th>7</th>\n",
       "      <td>Truck SUV/8</td>\n",
       "      <td>2018</td>\n",
       "      <td>20.8</td>\n",
       "      <td>428.2</td>\n",
       "      <td>6031</td>\n",
       "      <td>387</td>\n",
       "    </tr>\n",
       "    <tr>\n",
       "      <th>8</th>\n",
       "      <td>Pickup/8</td>\n",
       "      <td>2018</td>\n",
       "      <td>20.9</td>\n",
       "      <td>424.6</td>\n",
       "      <td>5642</td>\n",
       "      <td>375</td>\n",
       "    </tr>\n",
       "  </tbody>\n",
       "</table>\n",
       "</div>"
      ],
      "text/plain": [
       "   Sedan/Wagon/6  2018  28.2  315.6  4098  313\n",
       "0      Car SUV/6  2018  26.9  330.0  4321  285\n",
       "1          Van/6  2018  26.9  329.0  4635  282\n",
       "2    Truck SUV/6  2018  23.9  371.5  4760  297\n",
       "3       Pickup/6  2018  23.1  384.7  4791  305\n",
       "4  Sedan/Wagon/8  2018  24.2  367.8  4345  477\n",
       "5      Car SUV/4  2018  30.2  295.1  3736  181\n",
       "6          Van/8  2018  15.4  577.1  6647  324\n",
       "7    Truck SUV/8  2018  20.8  428.2  6031  387\n",
       "8       Pickup/8  2018  20.9  424.6  5642  375"
      ]
     },
     "execution_count": 16,
     "metadata": {},
     "output_type": "execute_result"
    }
   ],
   "source": [
    "# let's load up pandas and read in a csv file\n",
    "import pandas as pd\n",
    "\n",
    "cars_csv = pd.read_csv('cars.csv')\n",
    "cars_csv"
   ]
  },
  {
   "cell_type": "markdown",
   "metadata": {},
   "source": [
    "<div class=\"alert alert-block alert-success\"><b>Problem 4 (2 pts.)</b>: As you can see with the results of reading the csv file in, the first record is appearing as the header.\n",
    "\n",
    "Read the file in again so that there is no header and all records from the file show correctly. Use the documentation as needed: https://pandas.pydata.org/pandas-docs/stable/reference/api/pandas.read_csv.html\n",
    "</div>"
   ]
  },
  {
   "cell_type": "code",
   "execution_count": 0,
   "metadata": {},
   "outputs": [],
   "source": [
    "#TODO read in the cars.csv file without a header\n",
    " \n",
    "#TODO show the file to confirm all records are accurate\n",
    " "
   ]
  },
  {
   "cell_type": "markdown",
   "metadata": {},
   "source": [
    "### Reading Excel files with Pandas"
   ]
  },
  {
   "cell_type": "code",
   "execution_count": 17,
   "metadata": {},
   "outputs": [
    {
     "name": "stdout",
     "output_type": "stream",
     "text": [
      "<class 'pandas.core.frame.DataFrame'>\n",
      "RangeIndex: 9 entries, 0 to 8\n",
      "Data columns (total 6 columns):\n",
      "Sedan/Wagon/6    9 non-null object\n",
      "2018             9 non-null int64\n",
      "28.2             9 non-null float64\n",
      "315.6            9 non-null float64\n",
      "4098             9 non-null int64\n",
      "313              9 non-null int64\n",
      "dtypes: float64(2), int64(3), object(1)\n",
      "memory usage: 512.0+ bytes\n"
     ]
    }
   ],
   "source": [
    "# let's read in an excel file\n",
    "cars_excel = pd.read_excel('cars.xlsx')\n",
    "\n",
    "# look at the information about the file\n",
    "# notice that info() tells you how many rows, how many non-nulls per column and the variable type\n",
    "cars_excel.info()"
   ]
  },
  {
   "cell_type": "code",
   "execution_count": 18,
   "metadata": {},
   "outputs": [
    {
     "data": {
      "text/html": [
       "<div>\n",
       "<style scoped>\n",
       "    .dataframe tbody tr th:only-of-type {\n",
       "        vertical-align: middle;\n",
       "    }\n",
       "\n",
       "    .dataframe tbody tr th {\n",
       "        vertical-align: top;\n",
       "    }\n",
       "\n",
       "    .dataframe thead th {\n",
       "        text-align: right;\n",
       "    }\n",
       "</style>\n",
       "<table border=\"1\" class=\"dataframe\">\n",
       "  <thead>\n",
       "    <tr style=\"text-align: right;\">\n",
       "      <th></th>\n",
       "      <th>data came from EPA 2018 Automotive Trends Report</th>\n",
       "      <th>Unnamed: 1</th>\n",
       "      <th>Unnamed: 2</th>\n",
       "      <th>Unnamed: 3</th>\n",
       "      <th>Unnamed: 4</th>\n",
       "      <th>Unnamed: 5</th>\n",
       "    </tr>\n",
       "  </thead>\n",
       "  <tbody>\n",
       "    <tr>\n",
       "      <th>0</th>\n",
       "      <td>Office of Transportation and Air Quality - Sup...</td>\n",
       "      <td>NaN</td>\n",
       "      <td>NaN</td>\n",
       "      <td>NaN</td>\n",
       "      <td>NaN</td>\n",
       "      <td>NaN</td>\n",
       "    </tr>\n",
       "    <tr>\n",
       "      <th>1</th>\n",
       "      <td>Type</td>\n",
       "      <td>Year</td>\n",
       "      <td>MPG</td>\n",
       "      <td>CO2 Emissions</td>\n",
       "      <td>Weight</td>\n",
       "      <td>HP</td>\n",
       "    </tr>\n",
       "    <tr>\n",
       "      <th>2</th>\n",
       "      <td>Sedan/Wagon 6</td>\n",
       "      <td>2018</td>\n",
       "      <td>28.2</td>\n",
       "      <td>315.6</td>\n",
       "      <td>4098</td>\n",
       "      <td>313</td>\n",
       "    </tr>\n",
       "    <tr>\n",
       "      <th>3</th>\n",
       "      <td>Car SUV 6</td>\n",
       "      <td>2018</td>\n",
       "      <td>26.9</td>\n",
       "      <td>330</td>\n",
       "      <td>4321</td>\n",
       "      <td>285</td>\n",
       "    </tr>\n",
       "    <tr>\n",
       "      <th>4</th>\n",
       "      <td>Van 6</td>\n",
       "      <td>2018</td>\n",
       "      <td>26.9</td>\n",
       "      <td>329</td>\n",
       "      <td>4635</td>\n",
       "      <td>282</td>\n",
       "    </tr>\n",
       "  </tbody>\n",
       "</table>\n",
       "</div>"
      ],
      "text/plain": [
       "    data came from EPA 2018 Automotive Trends Report Unnamed: 1 Unnamed: 2  \\\n",
       "0  Office of Transportation and Air Quality - Sup...        NaN        NaN   \n",
       "1                                               Type       Year        MPG   \n",
       "2                                      Sedan/Wagon 6       2018       28.2   \n",
       "3                                          Car SUV 6       2018       26.9   \n",
       "4                                              Van 6       2018       26.9   \n",
       "\n",
       "      Unnamed: 3 Unnamed: 4 Unnamed: 5  \n",
       "0            NaN        NaN        NaN  \n",
       "1  CO2 Emissions     Weight         HP  \n",
       "2          315.6       4098        313  \n",
       "3            330       4321        285  \n",
       "4            329       4635        282  "
      ]
     },
     "execution_count": 18,
     "metadata": {},
     "output_type": "execute_result"
    }
   ],
   "source": [
    "# look at the first 5 rows\n",
    "cars_excel.head()"
   ]
  },
  {
   "attachments": {
    "image.png": {
     "image/png": "[encoded data removed]"
    }
   },
   "cell_type": "markdown",
   "metadata": {},
   "source": [
    "<div class=\"alert alert-block alert-success\"><b>Problem 5 (2 pts.)</b>: As you can see with the results of reading the excel file in, there is something wrong with the header; The actual header is appearing as the first row. If you check out the excel file, you will see that there are two comment lines.\n",
    "\n",
    "There is a way to handle unneeded rows when reading in an excel file. Read the file in again so that the header and all records from the file show correctly. Reference: https://pandas.pydata.org/pandas-docs/stable/reference/api/pandas.read_excel.html\n",
    "![image.png](attachment:image.png)\n",
    "</div>"
   ]
  },
  {
   "cell_type": "code",
   "execution_count": 0,
   "metadata": {},
   "outputs": [],
   "source": [
    "# TODO read in the excel so that the header is correct\n",
    " \n",
    "\n",
    "# TODO show the first five rows now\n",
    " "
   ]
  },
  {
   "cell_type": "code",
   "execution_count": 0,
   "metadata": {},
   "outputs": [],
   "source": [
    "# look at the last 3 rows of data\n",
    "cars_excel.tail(3)"
   ]
  },
  {
   "cell_type": "code",
   "execution_count": 0,
   "metadata": {},
   "outputs": [],
   "source": [
    "# you can refer to one column of data \n",
    "cars_excel['MPG']\n",
    "\n",
    "# OR ===== but this style will only work if there is no space in the column name\n",
    "cars_excel.MPG"
   ]
  },
  {
   "attachments": {
    "image.png": {
     "image/png": "[encoded data removed]"
    }
   },
   "cell_type": "markdown",
   "metadata": {},
   "source": [
    "### Read a json file\n",
    "\n",
    "https://pandas.pydata.org/pandas-docs/stable/reference/api/pandas.read_json.html\n",
    "\n",
    "![image.png](attachment:image.png) "
   ]
  },
  {
   "cell_type": "code",
   "execution_count": 19,
   "metadata": {},
   "outputs": [
    {
     "data": {
      "text/plain": [
       "pandas.core.frame.DataFrame"
      ]
     },
     "execution_count": 19,
     "metadata": {},
     "output_type": "execute_result"
    },
    {
     "data": {
      "text/html": [
       "<div>\n",
       "<style scoped>\n",
       "    .dataframe tbody tr th:only-of-type {\n",
       "        vertical-align: middle;\n",
       "    }\n",
       "\n",
       "    .dataframe tbody tr th {\n",
       "        vertical-align: top;\n",
       "    }\n",
       "\n",
       "    .dataframe thead th {\n",
       "        text-align: right;\n",
       "    }\n",
       "</style>\n",
       "<table border=\"1\" class=\"dataframe\">\n",
       "  <thead>\n",
       "    <tr style=\"text-align: right;\">\n",
       "      <th></th>\n",
       "      <th>Type</th>\n",
       "      <th>Year</th>\n",
       "      <th>MPG</th>\n",
       "      <th>CO2 Emissions</th>\n",
       "      <th>Weight</th>\n",
       "      <th>HP</th>\n",
       "    </tr>\n",
       "  </thead>\n",
       "  <tbody>\n",
       "    <tr>\n",
       "      <th>0</th>\n",
       "      <td>Sedan/Wagon 6</td>\n",
       "      <td>2018</td>\n",
       "      <td>28.2</td>\n",
       "      <td>315.6</td>\n",
       "      <td>4098</td>\n",
       "      <td>313</td>\n",
       "    </tr>\n",
       "    <tr>\n",
       "      <th>1</th>\n",
       "      <td>Car SUV 6</td>\n",
       "      <td>2018</td>\n",
       "      <td>26.9</td>\n",
       "      <td>330.0</td>\n",
       "      <td>4321</td>\n",
       "      <td>285</td>\n",
       "    </tr>\n",
       "    <tr>\n",
       "      <th>2</th>\n",
       "      <td>Van 6</td>\n",
       "      <td>2018</td>\n",
       "      <td>26.9</td>\n",
       "      <td>329.0</td>\n",
       "      <td>4635</td>\n",
       "      <td>282</td>\n",
       "    </tr>\n",
       "  </tbody>\n",
       "</table>\n",
       "</div>"
      ],
      "text/plain": [
       "            Type  Year   MPG  CO2 Emissions  Weight   HP\n",
       "0  Sedan/Wagon 6  2018  28.2          315.6    4098  313\n",
       "1      Car SUV 6  2018  26.9          330.0    4321  285\n",
       "2          Van 6  2018  26.9          329.0    4635  282"
      ]
     },
     "execution_count": 19,
     "metadata": {},
     "output_type": "execute_result"
    },
    {
     "name": "stdout",
     "output_type": "stream",
     "text": [
      "<class 'pandas.core.frame.DataFrame'>\n",
      "Int64Index: 10 entries, 0 to 9\n",
      "Data columns (total 6 columns):\n",
      "Type             10 non-null object\n",
      "Year             10 non-null int64\n",
      "MPG              10 non-null float64\n",
      "CO2 Emissions    10 non-null float64\n",
      "Weight           10 non-null int64\n",
      "HP               10 non-null int64\n",
      "dtypes: float64(2), int64(3), object(1)\n",
      "memory usage: 560.0+ bytes\n"
     ]
    }
   ],
   "source": [
    "# json has its own library\n",
    "import json\n",
    "\n",
    "cars_json = pd.read_json('cars.json')\n",
    "\n",
    "# what type of object is cars_json\n",
    "type(cars_json)\n",
    "\n",
    "# look at first 3 records\n",
    "cars_json.head(3)\n",
    "\n",
    "# let's look at the info - you can see row count, non-null count and column types\n",
    "cars_json.info()"
   ]
  },
  {
   "cell_type": "markdown",
   "metadata": {},
   "source": [
    "## Adding a field to the DataFrame\n",
    "\n",
    "We want to create a new field for Cylinders. We know that the last character of **Type** contains the cylinders so let's isolate that using <i>slice()</i>."
   ]
  },
  {
   "cell_type": "code",
   "execution_count": 20,
   "metadata": {},
   "outputs": [
    {
     "data": {
      "text/plain": [
       "0    6\n",
       "1    6\n",
       "2    6\n",
       "3    6\n",
       "4    6\n",
       "5    8\n",
       "6    4\n",
       "7    8\n",
       "8    8\n",
       "9    8\n",
       "Name: Type, dtype: object"
      ]
     },
     "execution_count": 20,
     "metadata": {},
     "output_type": "execute_result"
    }
   ],
   "source": [
    "# test out the use of slice\n",
    "test = cars_json['Type'].str.slice(start=-1)\n",
    "test"
   ]
  },
  {
   "cell_type": "code",
   "execution_count": 21,
   "metadata": {},
   "outputs": [
    {
     "name": "stdout",
     "output_type": "stream",
     "text": [
      "<class 'pandas.core.frame.DataFrame'>\n",
      "Int64Index: 10 entries, 0 to 9\n",
      "Data columns (total 7 columns):\n",
      "Type             10 non-null object\n",
      "Year             10 non-null int64\n",
      "MPG              10 non-null float64\n",
      "CO2 Emissions    10 non-null float64\n",
      "Weight           10 non-null int64\n",
      "HP               10 non-null int64\n",
      "Cylinders        10 non-null object\n",
      "dtypes: float64(2), int64(3), object(2)\n",
      "memory usage: 640.0+ bytes\n"
     ]
    },
    {
     "data": {
      "text/html": [
       "<div>\n",
       "<style scoped>\n",
       "    .dataframe tbody tr th:only-of-type {\n",
       "        vertical-align: middle;\n",
       "    }\n",
       "\n",
       "    .dataframe tbody tr th {\n",
       "        vertical-align: top;\n",
       "    }\n",
       "\n",
       "    .dataframe thead th {\n",
       "        text-align: right;\n",
       "    }\n",
       "</style>\n",
       "<table border=\"1\" class=\"dataframe\">\n",
       "  <thead>\n",
       "    <tr style=\"text-align: right;\">\n",
       "      <th></th>\n",
       "      <th>Type</th>\n",
       "      <th>Year</th>\n",
       "      <th>MPG</th>\n",
       "      <th>CO2 Emissions</th>\n",
       "      <th>Weight</th>\n",
       "      <th>HP</th>\n",
       "      <th>Cylinders</th>\n",
       "    </tr>\n",
       "  </thead>\n",
       "  <tbody>\n",
       "    <tr>\n",
       "      <th>0</th>\n",
       "      <td>Sedan/Wagon 6</td>\n",
       "      <td>2018</td>\n",
       "      <td>28.2</td>\n",
       "      <td>315.6</td>\n",
       "      <td>4098</td>\n",
       "      <td>313</td>\n",
       "      <td>6</td>\n",
       "    </tr>\n",
       "    <tr>\n",
       "      <th>1</th>\n",
       "      <td>Car SUV 6</td>\n",
       "      <td>2018</td>\n",
       "      <td>26.9</td>\n",
       "      <td>330.0</td>\n",
       "      <td>4321</td>\n",
       "      <td>285</td>\n",
       "      <td>6</td>\n",
       "    </tr>\n",
       "    <tr>\n",
       "      <th>2</th>\n",
       "      <td>Van 6</td>\n",
       "      <td>2018</td>\n",
       "      <td>26.9</td>\n",
       "      <td>329.0</td>\n",
       "      <td>4635</td>\n",
       "      <td>282</td>\n",
       "      <td>6</td>\n",
       "    </tr>\n",
       "    <tr>\n",
       "      <th>3</th>\n",
       "      <td>Truck SUV 6</td>\n",
       "      <td>2018</td>\n",
       "      <td>23.9</td>\n",
       "      <td>371.5</td>\n",
       "      <td>4760</td>\n",
       "      <td>297</td>\n",
       "      <td>6</td>\n",
       "    </tr>\n",
       "    <tr>\n",
       "      <th>4</th>\n",
       "      <td>Pickup 6</td>\n",
       "      <td>2018</td>\n",
       "      <td>23.1</td>\n",
       "      <td>384.7</td>\n",
       "      <td>4791</td>\n",
       "      <td>305</td>\n",
       "      <td>6</td>\n",
       "    </tr>\n",
       "  </tbody>\n",
       "</table>\n",
       "</div>"
      ],
      "text/plain": [
       "            Type  Year   MPG  CO2 Emissions  Weight   HP Cylinders\n",
       "0  Sedan/Wagon 6  2018  28.2          315.6    4098  313         6\n",
       "1      Car SUV 6  2018  26.9          330.0    4321  285         6\n",
       "2          Van 6  2018  26.9          329.0    4635  282         6\n",
       "3    Truck SUV 6  2018  23.9          371.5    4760  297         6\n",
       "4       Pickup 6  2018  23.1          384.7    4791  305         6"
      ]
     },
     "execution_count": 21,
     "metadata": {},
     "output_type": "execute_result"
    }
   ],
   "source": [
    "# Add a new field to the dataframe\n",
    "cars_json['Cylinders'] = cars_json['Type'].str.slice(start=-1)\n",
    "\n",
    "# check it out!\n",
    "cars_json.info()\n",
    "cars_json.head()"
   ]
  },
  {
   "cell_type": "code",
   "execution_count": 22,
   "metadata": {},
   "outputs": [
    {
     "name": "stdout",
     "output_type": "stream",
     "text": [
      "<class 'pandas.core.frame.DataFrame'>\n",
      "Int64Index: 10 entries, 0 to 9\n",
      "Data columns (total 7 columns):\n",
      "Type             10 non-null object\n",
      "Year             10 non-null int64\n",
      "MPG              10 non-null float64\n",
      "CO2 Emissions    10 non-null float64\n",
      "Weight           10 non-null int64\n",
      "HP               10 non-null int64\n",
      "Cylinders        10 non-null int32\n",
      "dtypes: float64(2), int32(1), int64(3), object(1)\n",
      "memory usage: 600.0+ bytes\n"
     ]
    }
   ],
   "source": [
    "# Cylinders needs to be an integer\n",
    "cars_json['Cylinders'] = cars_json['Cylinders'].astype(int)\n",
    "\n",
    "# check out work\n",
    "cars_json.info()"
   ]
  },
  {
   "cell_type": "markdown",
   "metadata": {},
   "source": [
    "### Writing to a File\n",
    "\n",
    "When you create a new field and add it to your dataframe, it is a good idea to write out the new file to save it for future reference.\n"
   ]
  },
  {
   "cell_type": "markdown",
   "metadata": {},
   "source": [
    "<div class=\"alert alert-block alert-success\"><b>Problem 6 (4 pts.)</b>: Create a new field into the cars_json DataFrame to represent Cylinder_efficiency. \n",
    "    \n",
    "The calcuation for Cylinder_efficiency will be HP divided by the Cylinders; round the results to two decimal places.\n",
    "\n",
    "Next write your new file out to an **excel** file called cars_totals.xlsx.  Upload your new file into Canvas along with the .ipynb and HTML files. Reference: https://pandas.pydata.org/pandas-docs/stable/reference/api/pandas.DataFrame.to_excel.html\n",
    "</div>"
   ]
  },
  {
   "cell_type": "code",
   "execution_count": 0,
   "metadata": {},
   "outputs": [],
   "source": [
    "#TODO create a new field called Cylinder_efficiency\n",
    " \n",
    "\n",
    "#TODO show your file\n",
    " \n",
    "\n",
    "#TODO write out new file\n",
    " "
   ]
  },
  {
   "cell_type": "markdown",
   "metadata": {},
   "source": [
    "### Viewing File Contents\n",
    "\n",
    "Though you can easily view the contents of the output text file you created using your favorite text editor there are ways of doing this using Python. Here we are going to use the shell command appropriate to your operating system. Note to access the shell commands from within the Jupyter notebook we need to prefix them with the `!` character."
   ]
  },
  {
   "cell_type": "code",
   "execution_count": 23,
   "metadata": {},
   "outputs": [
    {
     "name": "stdout",
     "output_type": "stream",
     "text": [
      "Sedan/Wagon/6\t2018\t28.2\t315.6\t4098\t313\n",
      "CarSUV/6\t2018\t26.9\t330\t4321\t285\n",
      "Van/6\t2018\t26.9\t329\t4635\t282\n",
      "TruckSUV/6\t2018\t23.9\t371.5\t4760\t297\n",
      "Pickup/6\t2018\t23.1\t384.7\t4791\t305\n",
      "Sedan/Wagon/8\t2018\t24.2\t367.8\t4345\t477\n",
      "CarSUV/4\t2018\t30.2\t295.1\t3736\t181\n",
      "Van/8\t2018\t15.4\t577.1\t6647\t324\n",
      "TruckSUV/8\t2018\t20.8\t428.2\t6031\t387\n",
      "Pickup/8\t2018\t20.9\t424.6\t5642\t375\n"
     ]
    }
   ],
   "source": [
    "import platform\n",
    "\n",
    "if (platform.system() == 'Windows'):\n",
    "    !type cars.txt\n",
    "else:        \n",
    "    !cat cars.txt"
   ]
  }
 ],
 "metadata": {
  "kernelspec": {
   "display_name": "Python 3",
   "language": "python",
   "name": "python3"
  },
  "language_info": {
   "codemirror_mode": {
    "name": "ipython",
    "version": 3
   },
   "file_extension": ".py",
   "mimetype": "text/x-python",
   "name": "python",
   "nbconvert_exporter": "python",
   "pygments_lexer": "ipython3",
   "version": "3.7.6"
  },
  "varInspector": {
   "cols": {
    "lenName": 16,
    "lenType": 16,
    "lenVar": 40
   },
   "kernels_config": {
    "python": {
     "delete_cmd_postfix": "",
     "delete_cmd_prefix": "del ",
     "library": "var_list.py",
     "varRefreshCmd": "print(var_dic_list())"
    },
    "r": {
     "delete_cmd_postfix": ") ",
     "delete_cmd_prefix": "rm(",
     "library": "var_list.r",
     "varRefreshCmd": "cat(var_dic_list()) "
    }
   },
   "types_to_exclude": [
    "module",
    "function",
    "builtin_function_or_method",
    "instance",
    "_Feature"
   ],
   "window_display": false
  }
 },
 "nbformat": 4,
 "nbformat_minor": 4
}
